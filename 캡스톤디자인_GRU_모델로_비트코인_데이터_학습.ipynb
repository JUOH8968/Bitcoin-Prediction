{
  "cells": [
    {
      "cell_type": "markdown",
      "metadata": {
        "id": "4pqj0Ued4JtX"
      },
      "source": [
        "#############\n",
        "### 0. 데이터 증가(2012.05.20~ 2025.05.20)\n",
        "### 1. 트럼프 관세(비트코인영향)\n",
        "### 2. dropout(정규화), early stoping  -> 과적합방지\n",
        "### 3. learning late ==> 하이퍼파라미터\n",
        "### 4. 함수로 묶기"
      ]
    },
    {
      "cell_type": "markdown",
      "metadata": {
        "id": "jn2_Wc4ix8W3"
      },
      "source": [
        "# 1. GRU 모델을 사용하여 비트코인 예측하는 프로그램"
      ]
    },
    {
      "cell_type": "markdown",
      "metadata": {
        "id": "ZdXNQI2HyhXi"
      },
      "source": [
        "##  1- 1. 데이터 불러오기 ( 2018년~ 2022년 데이터 학습 한후 2023년 예측)\n"
      ]
    },
    {
      "cell_type": "code",
      "execution_count": 1,
      "metadata": {
        "colab": {
          "base_uri": "https://localhost:8080/"
        },
        "id": "W_sSfQPwtVAJ",
        "outputId": "ae045a93-1f2e-4955-d049-3a7059a787e1"
      },
      "outputs": [
        {
          "output_type": "stream",
          "name": "stdout",
          "text": [
            "Collecting finance-datareader\n",
            "  Downloading finance_datareader-0.9.96-py3-none-any.whl.metadata (12 kB)\n",
            "Requirement already satisfied: beautifulsoup4 in /usr/local/lib/python3.12/dist-packages (from finance-datareader) (4.13.5)\n",
            "Requirement already satisfied: lxml in /usr/local/lib/python3.12/dist-packages (from finance-datareader) (5.4.0)\n",
            "Requirement already satisfied: pandas>=1.1.0 in /usr/local/lib/python3.12/dist-packages (from finance-datareader) (2.2.2)\n",
            "Requirement already satisfied: plotly in /usr/local/lib/python3.12/dist-packages (from finance-datareader) (5.24.1)\n",
            "Collecting requests-file (from finance-datareader)\n",
            "  Downloading requests_file-2.1.0-py2.py3-none-any.whl.metadata (1.7 kB)\n",
            "Requirement already satisfied: requests>=2.3.0 in /usr/local/lib/python3.12/dist-packages (from finance-datareader) (2.32.4)\n",
            "Requirement already satisfied: tqdm in /usr/local/lib/python3.12/dist-packages (from finance-datareader) (4.67.1)\n",
            "Requirement already satisfied: numpy>=1.26.0 in /usr/local/lib/python3.12/dist-packages (from pandas>=1.1.0->finance-datareader) (2.0.2)\n",
            "Requirement already satisfied: python-dateutil>=2.8.2 in /usr/local/lib/python3.12/dist-packages (from pandas>=1.1.0->finance-datareader) (2.9.0.post0)\n",
            "Requirement already satisfied: pytz>=2020.1 in /usr/local/lib/python3.12/dist-packages (from pandas>=1.1.0->finance-datareader) (2025.2)\n",
            "Requirement already satisfied: tzdata>=2022.7 in /usr/local/lib/python3.12/dist-packages (from pandas>=1.1.0->finance-datareader) (2025.2)\n",
            "Requirement already satisfied: charset_normalizer<4,>=2 in /usr/local/lib/python3.12/dist-packages (from requests>=2.3.0->finance-datareader) (3.4.3)\n",
            "Requirement already satisfied: idna<4,>=2.5 in /usr/local/lib/python3.12/dist-packages (from requests>=2.3.0->finance-datareader) (3.10)\n",
            "Requirement already satisfied: urllib3<3,>=1.21.1 in /usr/local/lib/python3.12/dist-packages (from requests>=2.3.0->finance-datareader) (2.5.0)\n",
            "Requirement already satisfied: certifi>=2017.4.17 in /usr/local/lib/python3.12/dist-packages (from requests>=2.3.0->finance-datareader) (2025.8.3)\n",
            "Requirement already satisfied: soupsieve>1.2 in /usr/local/lib/python3.12/dist-packages (from beautifulsoup4->finance-datareader) (2.8)\n",
            "Requirement already satisfied: typing-extensions>=4.0.0 in /usr/local/lib/python3.12/dist-packages (from beautifulsoup4->finance-datareader) (4.15.0)\n",
            "Requirement already satisfied: tenacity>=6.2.0 in /usr/local/lib/python3.12/dist-packages (from plotly->finance-datareader) (8.5.0)\n",
            "Requirement already satisfied: packaging in /usr/local/lib/python3.12/dist-packages (from plotly->finance-datareader) (25.0)\n",
            "Requirement already satisfied: six>=1.5 in /usr/local/lib/python3.12/dist-packages (from python-dateutil>=2.8.2->pandas>=1.1.0->finance-datareader) (1.17.0)\n",
            "Downloading finance_datareader-0.9.96-py3-none-any.whl (48 kB)\n",
            "\u001b[2K   \u001b[90m━━━━━━━━━━━━━━━━━━━━━━━━━━━━━━━━━━━━━━━━\u001b[0m \u001b[32m48.2/48.2 kB\u001b[0m \u001b[31m3.4 MB/s\u001b[0m eta \u001b[36m0:00:00\u001b[0m\n",
            "\u001b[?25hDownloading requests_file-2.1.0-py2.py3-none-any.whl (4.2 kB)\n",
            "Installing collected packages: requests-file, finance-datareader\n",
            "Successfully installed finance-datareader-0.9.96 requests-file-2.1.0\n"
          ]
        }
      ],
      "source": [
        "!pip install finance-datareader # FinanceDataReader에서 데이터를 불러오기 위해 FinanceDataReader를 설치하는 과정"
      ]
    },
    {
      "cell_type": "code",
      "execution_count": 44,
      "metadata": {
        "id": "UmGimVWdtPgI"
      },
      "outputs": [],
      "source": [
        "##### 추가연구 없이 2018.01.01~ 2022.12.31일 데이터 사용 ,\n",
        "#### 나스닥 지수 + 환율데이터 + 코인데이터 를 활용하여 종가 예측하기\n",
        "#### 추가로  뉴스 및 소셜 미디어 감성 분석을 하여 긍정인 뉴스는 1로, 부정인 뉴스는 0으로 라벨링 하여 진행하기\n",
        "############# 이코드 사용하기\n",
        "import pandas as pd\n",
        "import numpy as np\n",
        "import FinanceDataReader as fdr\n",
        "import matplotlib.pyplot as plt\n",
        "from sklearn.preprocessing import MinMaxScaler\n",
        "from tensorflow.keras.models import Sequential\n",
        "from tensorflow.keras.layers import Dense, GRU,Dropout\n",
        "from sklearn.metrics import r2_score\n",
        "from tensorflow.keras.callbacks import EarlyStopping, ModelCheckpoint\n",
        "\n",
        "# 데이터 불러오기\n",
        "start_date = \"2018-01-01\" # \"2018-01-01\"\n",
        "end_date = \"2023-03-01\"  #23.03.01  ,   \"2022-12-31\" 2025-08-20\n",
        "ticker = \"BTC/KRW\"  # 한국거래소에서 비트코인을 가격 데이터 가져오기\n",
        "df = pd.DataFrame(fdr.DataReader(ticker, start_date, end_date))"
      ]
    },
    {
      "cell_type": "code",
      "execution_count": 11,
      "metadata": {
        "colab": {
          "base_uri": "https://localhost:8080/",
          "height": 423
        },
        "id": "jJJjQw5kBUud",
        "outputId": "411246fc-6274-46c8-eaac-99ab0b632641"
      },
      "outputs": [
        {
          "output_type": "execute_result",
          "data": {
            "text/plain": [
              "                  Open        High         Low       Close          Volume  \\\n",
              "2018-01-01  15047133.0  15046287.0  14026068.0  14548333.0  10962700800000   \n",
              "2018-01-02  14514031.0  16400157.0  13990142.0  15918331.0  17899344238000   \n",
              "2018-01-03  15914188.0  16565566.0  15788165.0  16172952.0  17950689456200   \n",
              "2018-01-04  16247109.0  16707220.0  15433904.0  16552935.0  23115024576400   \n",
              "2018-01-05  16423476.0  18802922.0  16131843.0  18510128.0  25319034814500   \n",
              "...                ...         ...         ...         ...             ...   \n",
              "2023-02-25  30503590.0  30516850.0  30058378.0  30470984.0  21169228713656   \n",
              "2023-02-26  30469374.0  31100762.0  30351134.0  30978638.0  21884484860535   \n",
              "2023-02-27  30978950.0  31444266.0  30541950.0  31019684.0  29882818252455   \n",
              "2023-02-28  31018320.0  31092330.0  30533116.0  30600802.0  27147750459806   \n",
              "2023-03-01  30605530.0  31204412.0  30567020.0  30883694.0  32211027062696   \n",
              "\n",
              "             Adj Close  \n",
              "2018-01-01  14548333.0  \n",
              "2018-01-02  15918331.0  \n",
              "2018-01-03  16172952.0  \n",
              "2018-01-04  16552935.0  \n",
              "2018-01-05  18510128.0  \n",
              "...                ...  \n",
              "2023-02-25  30470984.0  \n",
              "2023-02-26  30978638.0  \n",
              "2023-02-27  31019684.0  \n",
              "2023-02-28  30600802.0  \n",
              "2023-03-01  30883694.0  \n",
              "\n",
              "[1886 rows x 6 columns]"
            ],
            "text/html": [
              "\n",
              "  <div id=\"df-9494c600-677a-4c37-9781-6e53cf7b9e77\" class=\"colab-df-container\">\n",
              "    <div>\n",
              "<style scoped>\n",
              "    .dataframe tbody tr th:only-of-type {\n",
              "        vertical-align: middle;\n",
              "    }\n",
              "\n",
              "    .dataframe tbody tr th {\n",
              "        vertical-align: top;\n",
              "    }\n",
              "\n",
              "    .dataframe thead th {\n",
              "        text-align: right;\n",
              "    }\n",
              "</style>\n",
              "<table border=\"1\" class=\"dataframe\">\n",
              "  <thead>\n",
              "    <tr style=\"text-align: right;\">\n",
              "      <th></th>\n",
              "      <th>Open</th>\n",
              "      <th>High</th>\n",
              "      <th>Low</th>\n",
              "      <th>Close</th>\n",
              "      <th>Volume</th>\n",
              "      <th>Adj Close</th>\n",
              "    </tr>\n",
              "  </thead>\n",
              "  <tbody>\n",
              "    <tr>\n",
              "      <th>2018-01-01</th>\n",
              "      <td>15047133.0</td>\n",
              "      <td>15046287.0</td>\n",
              "      <td>14026068.0</td>\n",
              "      <td>14548333.0</td>\n",
              "      <td>10962700800000</td>\n",
              "      <td>14548333.0</td>\n",
              "    </tr>\n",
              "    <tr>\n",
              "      <th>2018-01-02</th>\n",
              "      <td>14514031.0</td>\n",
              "      <td>16400157.0</td>\n",
              "      <td>13990142.0</td>\n",
              "      <td>15918331.0</td>\n",
              "      <td>17899344238000</td>\n",
              "      <td>15918331.0</td>\n",
              "    </tr>\n",
              "    <tr>\n",
              "      <th>2018-01-03</th>\n",
              "      <td>15914188.0</td>\n",
              "      <td>16565566.0</td>\n",
              "      <td>15788165.0</td>\n",
              "      <td>16172952.0</td>\n",
              "      <td>17950689456200</td>\n",
              "      <td>16172952.0</td>\n",
              "    </tr>\n",
              "    <tr>\n",
              "      <th>2018-01-04</th>\n",
              "      <td>16247109.0</td>\n",
              "      <td>16707220.0</td>\n",
              "      <td>15433904.0</td>\n",
              "      <td>16552935.0</td>\n",
              "      <td>23115024576400</td>\n",
              "      <td>16552935.0</td>\n",
              "    </tr>\n",
              "    <tr>\n",
              "      <th>2018-01-05</th>\n",
              "      <td>16423476.0</td>\n",
              "      <td>18802922.0</td>\n",
              "      <td>16131843.0</td>\n",
              "      <td>18510128.0</td>\n",
              "      <td>25319034814500</td>\n",
              "      <td>18510128.0</td>\n",
              "    </tr>\n",
              "    <tr>\n",
              "      <th>...</th>\n",
              "      <td>...</td>\n",
              "      <td>...</td>\n",
              "      <td>...</td>\n",
              "      <td>...</td>\n",
              "      <td>...</td>\n",
              "      <td>...</td>\n",
              "    </tr>\n",
              "    <tr>\n",
              "      <th>2023-02-25</th>\n",
              "      <td>30503590.0</td>\n",
              "      <td>30516850.0</td>\n",
              "      <td>30058378.0</td>\n",
              "      <td>30470984.0</td>\n",
              "      <td>21169228713656</td>\n",
              "      <td>30470984.0</td>\n",
              "    </tr>\n",
              "    <tr>\n",
              "      <th>2023-02-26</th>\n",
              "      <td>30469374.0</td>\n",
              "      <td>31100762.0</td>\n",
              "      <td>30351134.0</td>\n",
              "      <td>30978638.0</td>\n",
              "      <td>21884484860535</td>\n",
              "      <td>30978638.0</td>\n",
              "    </tr>\n",
              "    <tr>\n",
              "      <th>2023-02-27</th>\n",
              "      <td>30978950.0</td>\n",
              "      <td>31444266.0</td>\n",
              "      <td>30541950.0</td>\n",
              "      <td>31019684.0</td>\n",
              "      <td>29882818252455</td>\n",
              "      <td>31019684.0</td>\n",
              "    </tr>\n",
              "    <tr>\n",
              "      <th>2023-02-28</th>\n",
              "      <td>31018320.0</td>\n",
              "      <td>31092330.0</td>\n",
              "      <td>30533116.0</td>\n",
              "      <td>30600802.0</td>\n",
              "      <td>27147750459806</td>\n",
              "      <td>30600802.0</td>\n",
              "    </tr>\n",
              "    <tr>\n",
              "      <th>2023-03-01</th>\n",
              "      <td>30605530.0</td>\n",
              "      <td>31204412.0</td>\n",
              "      <td>30567020.0</td>\n",
              "      <td>30883694.0</td>\n",
              "      <td>32211027062696</td>\n",
              "      <td>30883694.0</td>\n",
              "    </tr>\n",
              "  </tbody>\n",
              "</table>\n",
              "<p>1886 rows × 6 columns</p>\n",
              "</div>\n",
              "    <div class=\"colab-df-buttons\">\n",
              "\n",
              "  <div class=\"colab-df-container\">\n",
              "    <button class=\"colab-df-convert\" onclick=\"convertToInteractive('df-9494c600-677a-4c37-9781-6e53cf7b9e77')\"\n",
              "            title=\"Convert this dataframe to an interactive table.\"\n",
              "            style=\"display:none;\">\n",
              "\n",
              "  <svg xmlns=\"http://www.w3.org/2000/svg\" height=\"24px\" viewBox=\"0 -960 960 960\">\n",
              "    <path d=\"M120-120v-720h720v720H120Zm60-500h600v-160H180v160Zm220 220h160v-160H400v160Zm0 220h160v-160H400v160ZM180-400h160v-160H180v160Zm440 0h160v-160H620v160ZM180-180h160v-160H180v160Zm440 0h160v-160H620v160Z\"/>\n",
              "  </svg>\n",
              "    </button>\n",
              "\n",
              "  <style>\n",
              "    .colab-df-container {\n",
              "      display:flex;\n",
              "      gap: 12px;\n",
              "    }\n",
              "\n",
              "    .colab-df-convert {\n",
              "      background-color: #E8F0FE;\n",
              "      border: none;\n",
              "      border-radius: 50%;\n",
              "      cursor: pointer;\n",
              "      display: none;\n",
              "      fill: #1967D2;\n",
              "      height: 32px;\n",
              "      padding: 0 0 0 0;\n",
              "      width: 32px;\n",
              "    }\n",
              "\n",
              "    .colab-df-convert:hover {\n",
              "      background-color: #E2EBFA;\n",
              "      box-shadow: 0px 1px 2px rgba(60, 64, 67, 0.3), 0px 1px 3px 1px rgba(60, 64, 67, 0.15);\n",
              "      fill: #174EA6;\n",
              "    }\n",
              "\n",
              "    .colab-df-buttons div {\n",
              "      margin-bottom: 4px;\n",
              "    }\n",
              "\n",
              "    [theme=dark] .colab-df-convert {\n",
              "      background-color: #3B4455;\n",
              "      fill: #D2E3FC;\n",
              "    }\n",
              "\n",
              "    [theme=dark] .colab-df-convert:hover {\n",
              "      background-color: #434B5C;\n",
              "      box-shadow: 0px 1px 3px 1px rgba(0, 0, 0, 0.15);\n",
              "      filter: drop-shadow(0px 1px 2px rgba(0, 0, 0, 0.3));\n",
              "      fill: #FFFFFF;\n",
              "    }\n",
              "  </style>\n",
              "\n",
              "    <script>\n",
              "      const buttonEl =\n",
              "        document.querySelector('#df-9494c600-677a-4c37-9781-6e53cf7b9e77 button.colab-df-convert');\n",
              "      buttonEl.style.display =\n",
              "        google.colab.kernel.accessAllowed ? 'block' : 'none';\n",
              "\n",
              "      async function convertToInteractive(key) {\n",
              "        const element = document.querySelector('#df-9494c600-677a-4c37-9781-6e53cf7b9e77');\n",
              "        const dataTable =\n",
              "          await google.colab.kernel.invokeFunction('convertToInteractive',\n",
              "                                                    [key], {});\n",
              "        if (!dataTable) return;\n",
              "\n",
              "        const docLinkHtml = 'Like what you see? Visit the ' +\n",
              "          '<a target=\"_blank\" href=https://colab.research.google.com/notebooks/data_table.ipynb>data table notebook</a>'\n",
              "          + ' to learn more about interactive tables.';\n",
              "        element.innerHTML = '';\n",
              "        dataTable['output_type'] = 'display_data';\n",
              "        await google.colab.output.renderOutput(dataTable, element);\n",
              "        const docLink = document.createElement('div');\n",
              "        docLink.innerHTML = docLinkHtml;\n",
              "        element.appendChild(docLink);\n",
              "      }\n",
              "    </script>\n",
              "  </div>\n",
              "\n",
              "\n",
              "    <div id=\"df-55c6198c-4558-41bf-af97-5524eb1ae506\">\n",
              "      <button class=\"colab-df-quickchart\" onclick=\"quickchart('df-55c6198c-4558-41bf-af97-5524eb1ae506')\"\n",
              "                title=\"Suggest charts\"\n",
              "                style=\"display:none;\">\n",
              "\n",
              "<svg xmlns=\"http://www.w3.org/2000/svg\" height=\"24px\"viewBox=\"0 0 24 24\"\n",
              "     width=\"24px\">\n",
              "    <g>\n",
              "        <path d=\"M19 3H5c-1.1 0-2 .9-2 2v14c0 1.1.9 2 2 2h14c1.1 0 2-.9 2-2V5c0-1.1-.9-2-2-2zM9 17H7v-7h2v7zm4 0h-2V7h2v10zm4 0h-2v-4h2v4z\"/>\n",
              "    </g>\n",
              "</svg>\n",
              "      </button>\n",
              "\n",
              "<style>\n",
              "  .colab-df-quickchart {\n",
              "      --bg-color: #E8F0FE;\n",
              "      --fill-color: #1967D2;\n",
              "      --hover-bg-color: #E2EBFA;\n",
              "      --hover-fill-color: #174EA6;\n",
              "      --disabled-fill-color: #AAA;\n",
              "      --disabled-bg-color: #DDD;\n",
              "  }\n",
              "\n",
              "  [theme=dark] .colab-df-quickchart {\n",
              "      --bg-color: #3B4455;\n",
              "      --fill-color: #D2E3FC;\n",
              "      --hover-bg-color: #434B5C;\n",
              "      --hover-fill-color: #FFFFFF;\n",
              "      --disabled-bg-color: #3B4455;\n",
              "      --disabled-fill-color: #666;\n",
              "  }\n",
              "\n",
              "  .colab-df-quickchart {\n",
              "    background-color: var(--bg-color);\n",
              "    border: none;\n",
              "    border-radius: 50%;\n",
              "    cursor: pointer;\n",
              "    display: none;\n",
              "    fill: var(--fill-color);\n",
              "    height: 32px;\n",
              "    padding: 0;\n",
              "    width: 32px;\n",
              "  }\n",
              "\n",
              "  .colab-df-quickchart:hover {\n",
              "    background-color: var(--hover-bg-color);\n",
              "    box-shadow: 0 1px 2px rgba(60, 64, 67, 0.3), 0 1px 3px 1px rgba(60, 64, 67, 0.15);\n",
              "    fill: var(--button-hover-fill-color);\n",
              "  }\n",
              "\n",
              "  .colab-df-quickchart-complete:disabled,\n",
              "  .colab-df-quickchart-complete:disabled:hover {\n",
              "    background-color: var(--disabled-bg-color);\n",
              "    fill: var(--disabled-fill-color);\n",
              "    box-shadow: none;\n",
              "  }\n",
              "\n",
              "  .colab-df-spinner {\n",
              "    border: 2px solid var(--fill-color);\n",
              "    border-color: transparent;\n",
              "    border-bottom-color: var(--fill-color);\n",
              "    animation:\n",
              "      spin 1s steps(1) infinite;\n",
              "  }\n",
              "\n",
              "  @keyframes spin {\n",
              "    0% {\n",
              "      border-color: transparent;\n",
              "      border-bottom-color: var(--fill-color);\n",
              "      border-left-color: var(--fill-color);\n",
              "    }\n",
              "    20% {\n",
              "      border-color: transparent;\n",
              "      border-left-color: var(--fill-color);\n",
              "      border-top-color: var(--fill-color);\n",
              "    }\n",
              "    30% {\n",
              "      border-color: transparent;\n",
              "      border-left-color: var(--fill-color);\n",
              "      border-top-color: var(--fill-color);\n",
              "      border-right-color: var(--fill-color);\n",
              "    }\n",
              "    40% {\n",
              "      border-color: transparent;\n",
              "      border-right-color: var(--fill-color);\n",
              "      border-top-color: var(--fill-color);\n",
              "    }\n",
              "    60% {\n",
              "      border-color: transparent;\n",
              "      border-right-color: var(--fill-color);\n",
              "    }\n",
              "    80% {\n",
              "      border-color: transparent;\n",
              "      border-right-color: var(--fill-color);\n",
              "      border-bottom-color: var(--fill-color);\n",
              "    }\n",
              "    90% {\n",
              "      border-color: transparent;\n",
              "      border-bottom-color: var(--fill-color);\n",
              "    }\n",
              "  }\n",
              "</style>\n",
              "\n",
              "      <script>\n",
              "        async function quickchart(key) {\n",
              "          const quickchartButtonEl =\n",
              "            document.querySelector('#' + key + ' button');\n",
              "          quickchartButtonEl.disabled = true;  // To prevent multiple clicks.\n",
              "          quickchartButtonEl.classList.add('colab-df-spinner');\n",
              "          try {\n",
              "            const charts = await google.colab.kernel.invokeFunction(\n",
              "                'suggestCharts', [key], {});\n",
              "          } catch (error) {\n",
              "            console.error('Error during call to suggestCharts:', error);\n",
              "          }\n",
              "          quickchartButtonEl.classList.remove('colab-df-spinner');\n",
              "          quickchartButtonEl.classList.add('colab-df-quickchart-complete');\n",
              "        }\n",
              "        (() => {\n",
              "          let quickchartButtonEl =\n",
              "            document.querySelector('#df-55c6198c-4558-41bf-af97-5524eb1ae506 button');\n",
              "          quickchartButtonEl.style.display =\n",
              "            google.colab.kernel.accessAllowed ? 'block' : 'none';\n",
              "        })();\n",
              "      </script>\n",
              "    </div>\n",
              "\n",
              "  <div id=\"id_aa38a4b1-ad80-4583-98eb-de83df09d411\">\n",
              "    <style>\n",
              "      .colab-df-generate {\n",
              "        background-color: #E8F0FE;\n",
              "        border: none;\n",
              "        border-radius: 50%;\n",
              "        cursor: pointer;\n",
              "        display: none;\n",
              "        fill: #1967D2;\n",
              "        height: 32px;\n",
              "        padding: 0 0 0 0;\n",
              "        width: 32px;\n",
              "      }\n",
              "\n",
              "      .colab-df-generate:hover {\n",
              "        background-color: #E2EBFA;\n",
              "        box-shadow: 0px 1px 2px rgba(60, 64, 67, 0.3), 0px 1px 3px 1px rgba(60, 64, 67, 0.15);\n",
              "        fill: #174EA6;\n",
              "      }\n",
              "\n",
              "      [theme=dark] .colab-df-generate {\n",
              "        background-color: #3B4455;\n",
              "        fill: #D2E3FC;\n",
              "      }\n",
              "\n",
              "      [theme=dark] .colab-df-generate:hover {\n",
              "        background-color: #434B5C;\n",
              "        box-shadow: 0px 1px 3px 1px rgba(0, 0, 0, 0.15);\n",
              "        filter: drop-shadow(0px 1px 2px rgba(0, 0, 0, 0.3));\n",
              "        fill: #FFFFFF;\n",
              "      }\n",
              "    </style>\n",
              "    <button class=\"colab-df-generate\" onclick=\"generateWithVariable('df')\"\n",
              "            title=\"Generate code using this dataframe.\"\n",
              "            style=\"display:none;\">\n",
              "\n",
              "  <svg xmlns=\"http://www.w3.org/2000/svg\" height=\"24px\"viewBox=\"0 0 24 24\"\n",
              "       width=\"24px\">\n",
              "    <path d=\"M7,19H8.4L18.45,9,17,7.55,7,17.6ZM5,21V16.75L18.45,3.32a2,2,0,0,1,2.83,0l1.4,1.43a1.91,1.91,0,0,1,.58,1.4,1.91,1.91,0,0,1-.58,1.4L9.25,21ZM18.45,9,17,7.55Zm-12,3A5.31,5.31,0,0,0,4.9,8.1,5.31,5.31,0,0,0,1,6.5,5.31,5.31,0,0,0,4.9,4.9,5.31,5.31,0,0,0,6.5,1,5.31,5.31,0,0,0,8.1,4.9,5.31,5.31,0,0,0,12,6.5,5.46,5.46,0,0,0,6.5,12Z\"/>\n",
              "  </svg>\n",
              "    </button>\n",
              "    <script>\n",
              "      (() => {\n",
              "      const buttonEl =\n",
              "        document.querySelector('#id_aa38a4b1-ad80-4583-98eb-de83df09d411 button.colab-df-generate');\n",
              "      buttonEl.style.display =\n",
              "        google.colab.kernel.accessAllowed ? 'block' : 'none';\n",
              "\n",
              "      buttonEl.onclick = () => {\n",
              "        google.colab.notebook.generateWithVariable('df');\n",
              "      }\n",
              "      })();\n",
              "    </script>\n",
              "  </div>\n",
              "\n",
              "    </div>\n",
              "  </div>\n"
            ],
            "application/vnd.google.colaboratory.intrinsic+json": {
              "type": "dataframe",
              "variable_name": "df",
              "summary": "{\n  \"name\": \"df\",\n  \"rows\": 1886,\n  \"fields\": [\n    {\n      \"column\": \"Open\",\n      \"properties\": {\n        \"dtype\": \"number\",\n        \"std\": 19570058.02944008,\n        \"min\": 3665695.0,\n        \"max\": 81117880.0,\n        \"num_unique_values\": 1886,\n        \"samples\": [\n          7116595.5,\n          4125234.25,\n          5915799.0\n        ],\n        \"semantic_type\": \"\",\n        \"description\": \"\"\n      }\n    },\n    {\n      \"column\": \"High\",\n      \"properties\": {\n        \"dtype\": \"number\",\n        \"std\": 20061050.72355879,\n        \"min\": 3709986.75,\n        \"max\": 81038488.0,\n        \"num_unique_values\": 1886,\n        \"samples\": [\n          7135844.0,\n          4130406.5,\n          6059325.0\n        ],\n        \"semantic_type\": \"\",\n        \"description\": \"\"\n      }\n    },\n    {\n      \"column\": \"Low\",\n      \"properties\": {\n        \"dtype\": \"number\",\n        \"std\": 19006914.82636316,\n        \"min\": 3614756.75,\n        \"max\": 78265896.0,\n        \"num_unique_values\": 1886,\n        \"samples\": [\n          7040791.5,\n          4092625.25,\n          5896510.0\n        ],\n        \"semantic_type\": \"\",\n        \"description\": \"\"\n      }\n    },\n    {\n      \"column\": \"Close\",\n      \"properties\": {\n        \"dtype\": \"number\",\n        \"std\": 19564154.571829345,\n        \"min\": 3664754.5,\n        \"max\": 81138408.0,\n        \"num_unique_values\": 1886,\n        \"samples\": [\n          7121882.0,\n          4117986.0,\n          6041659.0\n        ],\n        \"semantic_type\": \"\",\n        \"description\": \"\"\n      }\n    },\n    {\n      \"column\": \"Volume\",\n      \"properties\": {\n        \"dtype\": \"number\",\n        \"std\": 22841976208050,\n        \"min\": 3300823448060,\n        \"max\": 394793308331130,\n        \"num_unique_values\": 1886,\n        \"samples\": [\n          4903476739200,\n          5632321264340,\n          19592399346300\n        ],\n        \"semantic_type\": \"\",\n        \"description\": \"\"\n      }\n    },\n    {\n      \"column\": \"Adj Close\",\n      \"properties\": {\n        \"dtype\": \"number\",\n        \"std\": 19564154.571829345,\n        \"min\": 3664754.5,\n        \"max\": 81138408.0,\n        \"num_unique_values\": 1886,\n        \"samples\": [\n          7121882.0,\n          4117986.0,\n          6041659.0\n        ],\n        \"semantic_type\": \"\",\n        \"description\": \"\"\n      }\n    }\n  ]\n}"
            }
          },
          "metadata": {},
          "execution_count": 11
        }
      ],
      "source": [
        "## 비트코인 데이터\n",
        "df"
      ]
    },
    {
      "cell_type": "markdown",
      "metadata": {
        "id": "SjnzexnWyMIz"
      },
      "source": [
        "## 1-2. 데이터 전처리"
      ]
    },
    {
      "cell_type": "code",
      "execution_count": 45,
      "metadata": {
        "id": "dNxVrr_1yKGL"
      },
      "outputs": [],
      "source": [
        "# 6개의 열 학습\n",
        "# 데이터 전처리\n",
        "scaler = MinMaxScaler()\n",
        "scaled_data = scaler.fit_transform(df.iloc[:,3:4]) # minmaxScaler는 스케일을 조정하는 정규화 함수로, 모든 데이터가 0과 1사이의 값을 갖도록 해주는 함수이다\n",
        "                          # 따라서 최댓값은 1로, 최솟값은 0으로 데이터의 범위를 조정해준다. 객체생성함"
      ]
    },
    {
      "cell_type": "code",
      "source": [
        "scaled_data.shape # (2, 6)"
      ],
      "metadata": {
        "colab": {
          "base_uri": "https://localhost:8080/"
        },
        "id": "5qrlVtkHg8bb",
        "outputId": "57daf544-4391-4cf8-a588-28df4d4733a6"
      },
      "execution_count": null,
      "outputs": [
        {
          "output_type": "execute_result",
          "data": {
            "text/plain": [
              "(2789, 1)"
            ]
          },
          "metadata": {},
          "execution_count": 89
        }
      ]
    },
    {
      "cell_type": "code",
      "execution_count": 46,
      "metadata": {
        "id": "yAYaiKWww_7Q"
      },
      "outputs": [],
      "source": [
        "# train, test 데이터 생성\n",
        "\n",
        "train_size = int(len(scaled_data) * 0.7)   ## 전체 데이터셋 중 70%를 학습 데이터셋으로, 20%를 테스트 데이터셋(검증용) 으로 사용하기 위해서 0.8을 곱했다\n",
        "                                          # 모델 학습 시 과적합을 방지하고 일반화 성능을 높이기 위해 사용된다\n",
        "train_data = scaled_data[:train_size] # 1789\n",
        "test_data = scaled_data[train_size:] # 768\n",
        "\n",
        "def create_dataset(data, look_back): #look_back은 몇 개의 과거 데이터를 사용할 것인지를 표현하는 것이다(기본값이 60이다)\n",
        "    x, y = [], []        #  for문에서 얻은 모든 입력 데이터(x)와 출력 데이터(y)를 리스트에 추가한다\n",
        "    for i in range(len(data)-look_back):  # train : 1759까지 , test: 738까지\n",
        "        x.append(data[i:(i+look_back), :])   # i부터 (i+look_back)까지의 데이터를 하나의 입력 데이터 x 로 표현한다, 종가와 저가사용\n",
        "        y.append([data[i+look_back, :]])       # i+look_back의 데이터를 출력 데이터 y 로 표현한다.\n",
        "    return np.array(x), np.array(y)         # 리스트를 numpy 배열로 변환하여 반환\n",
        "\n",
        "# create_dataset()는 시계열 데이터를 RNN 모델에 입력으로 사용하기 위해 입력 데이터와 출력 데이터로 분리하는 함수이다.\n",
        "\n",
        "look_back = 60\n",
        "x_train, y_train = create_dataset(train_data, look_back)\n",
        "x_test, y_test = create_dataset(test_data, look_back)"
      ]
    },
    {
      "cell_type": "code",
      "source": [
        "x_train.shape, y_train.shape, x_test.shape, y_test.shape\n",
        "# x_train.shpae : (샘플수, look_back, 특성개수)\n",
        "# y_train.shape : (샘플수, 예측 한날의 정답, 특성개수)\n",
        "# x_test.shape :  (샘플수 , look_back, 특성개수)\n",
        "# y_test.shape :  (샘플수, 예측 한날의 정답, 특성개수)"
      ],
      "metadata": {
        "colab": {
          "base_uri": "https://localhost:8080/"
        },
        "id": "1CMgeKOCWMdc",
        "outputId": "228e3317-c97d-458e-ef3b-ef8871ae8922"
      },
      "execution_count": 5,
      "outputs": [
        {
          "output_type": "execute_result",
          "data": {
            "text/plain": [
              "((1218, 60, 1), (1218, 1, 1), (488, 60, 1), (488, 1, 1))"
            ]
          },
          "metadata": {},
          "execution_count": 5
        }
      ]
    },
    {
      "cell_type": "markdown",
      "metadata": {
        "id": "7ewKLtyIyQxZ"
      },
      "source": [
        "## 1-3. GRU 모델 생성"
      ]
    },
    {
      "cell_type": "code",
      "execution_count": 47,
      "metadata": {
        "id": "q2HY-Eyqw8ZV",
        "colab": {
          "base_uri": "https://localhost:8080/"
        },
        "outputId": "9a3d3afe-eb5d-44d4-ab89-32b5074e9311"
      },
      "outputs": [
        {
          "output_type": "stream",
          "name": "stderr",
          "text": [
            "/usr/local/lib/python3.12/dist-packages/keras/src/layers/rnn/rnn.py:199: UserWarning: Do not pass an `input_shape`/`input_dim` argument to a layer. When using Sequential models, prefer using an `Input(shape)` object as the first layer in the model instead.\n",
            "  super().__init__(**kwargs)\n"
          ]
        }
      ],
      "source": [
        "# 모델 생성\n",
        "es = EarlyStopping(monitor= 'val_loss', mode='min', verbose=1, patience=5)\n",
        "  # 검증손실이 5번연속 줄지않으면 학습중단 , verbose=1 :자세히출력, 0;출력x , 2:함축적인정보만 출력\n",
        "\n",
        "mc= ModelCheckpoint('best_model.h5', monitor='val_loss', mode='min', verbose=1,save_best_only=True)\n",
        "  # 검증손실이 가장 작을때의 모델만 저장\n",
        "model = Sequential()   # 모델의 객체생성\n",
        "model.add(GRU(150, input_shape=(look_back, 1)))   #  50=레이어의 출력 차원, input_shape=입력 데이터의 형태를 정의를 의미한다.\n",
        "                                                  # lock_back=이전 데이터의 갯수만큼 비트코인 가격을 입력으로 받아들이고, 각각의 데이터가 1차원인 것을 의미합니다.\n",
        "model.add(Dropout(0.2))\n",
        "model.add(Dense(1))   # Dense 는 완전 연결 레이어(층)를 의미한다. 1은 출력의 차원을 의미\n",
        "\n",
        "model.compile(loss='mean_squared_error', optimizer='adam', metrics=['mse', 'mae'] )  # compile() 함수를 이용하여 모델을 컴파일합니다\n",
        "                                                             # loss는 손실 함수를 의미한다.\n",
        "                                                             # mean_squared_error(MSE) 는 전체 에러를 표현하기 위해서 사용하는 식이고 오차의 제곱에 대해 평균을 취한 것이다.(수치가 작을 수록 원본과의 오차가 적은 것이다)\n",
        "                                                             # optimizer는  최적화 알고리즘을 정의하는 부분이다. adam(아담) 은 모멘텀+ AdaGrad(아다그라드) 을 합친 것이다\n",
        "\n",
        "# 완전 연결 레이어 : 한 레이어의 모든 뉴런이 그 다음 레이어의 모든 뉴런과 연결된 상태이다.\n",
        "# 모멘텀 : 기울기 방향으로 힘을 받아 물체가 가속된다는 물리법칙을 적용한것이다.\n",
        "# AdaGrad : 학습을 진행하면서 학습률을 점차 줄여가는 방법이다.\n",
        "# dropout 하기전 7분 실행됨"
      ]
    },
    {
      "cell_type": "markdown",
      "metadata": {
        "id": "l7U6MvGCyU7V"
      },
      "source": [
        "## 1-4. GRU 모델 학습"
      ]
    },
    {
      "cell_type": "code",
      "execution_count": 48,
      "metadata": {
        "colab": {
          "base_uri": "https://localhost:8080/"
        },
        "id": "Bfe65bVbyWUN",
        "outputId": "e07c9837-ea89-4107-d3b2-32615ed0bca9"
      },
      "outputs": [
        {
          "output_type": "stream",
          "name": "stdout",
          "text": [
            "Epoch 1/100\n",
            "\n",
            "Epoch 1: val_loss improved from inf to 0.00060, saving model to best_model.h5\n"
          ]
        },
        {
          "output_type": "stream",
          "name": "stderr",
          "text": [
            "WARNING:absl:You are saving your model as an HDF5 file via `model.save()` or `keras.saving.save_model(model)`. This file format is considered legacy. We recommend using instead the native Keras format, e.g. `model.save('my_model.keras')` or `keras.saving.save_model(model, 'my_model.keras')`. \n"
          ]
        },
        {
          "output_type": "stream",
          "name": "stdout",
          "text": [
            "40/40 - 6s - 149ms/step - loss: 0.0060 - mae: 0.0439 - mse: 0.0060 - val_loss: 6.0185e-04 - val_mae: 0.0167 - val_mse: 6.0185e-04\n",
            "Epoch 2/100\n",
            "\n",
            "Epoch 2: val_loss did not improve from 0.00060\n",
            "40/40 - 5s - 116ms/step - loss: 6.6410e-04 - mae: 0.0143 - mse: 6.6410e-04 - val_loss: 6.2842e-04 - val_mae: 0.0171 - val_mse: 6.2842e-04\n",
            "Epoch 3/100\n",
            "\n",
            "Epoch 3: val_loss improved from 0.00060 to 0.00060, saving model to best_model.h5\n"
          ]
        },
        {
          "output_type": "stream",
          "name": "stderr",
          "text": [
            "WARNING:absl:You are saving your model as an HDF5 file via `model.save()` or `keras.saving.save_model(model)`. This file format is considered legacy. We recommend using instead the native Keras format, e.g. `model.save('my_model.keras')` or `keras.saving.save_model(model, 'my_model.keras')`. \n"
          ]
        },
        {
          "output_type": "stream",
          "name": "stdout",
          "text": [
            "40/40 - 3s - 86ms/step - loss: 6.0539e-04 - mae: 0.0133 - mse: 6.0539e-04 - val_loss: 5.9901e-04 - val_mae: 0.0172 - val_mse: 5.9901e-04\n",
            "Epoch 4/100\n",
            "\n",
            "Epoch 4: val_loss did not improve from 0.00060\n",
            "40/40 - 5s - 134ms/step - loss: 6.1479e-04 - mae: 0.0135 - mse: 6.1479e-04 - val_loss: 6.9219e-04 - val_mae: 0.0195 - val_mse: 6.9219e-04\n",
            "Epoch 5/100\n",
            "\n",
            "Epoch 5: val_loss did not improve from 0.00060\n",
            "40/40 - 5s - 137ms/step - loss: 5.5706e-04 - mae: 0.0131 - mse: 5.5706e-04 - val_loss: 6.5398e-04 - val_mae: 0.0179 - val_mse: 6.5398e-04\n",
            "Epoch 6/100\n",
            "\n",
            "Epoch 6: val_loss improved from 0.00060 to 0.00048, saving model to best_model.h5\n"
          ]
        },
        {
          "output_type": "stream",
          "name": "stderr",
          "text": [
            "WARNING:absl:You are saving your model as an HDF5 file via `model.save()` or `keras.saving.save_model(model)`. This file format is considered legacy. We recommend using instead the native Keras format, e.g. `model.save('my_model.keras')` or `keras.saving.save_model(model, 'my_model.keras')`. \n"
          ]
        },
        {
          "output_type": "stream",
          "name": "stdout",
          "text": [
            "40/40 - 5s - 119ms/step - loss: 5.7577e-04 - mae: 0.0135 - mse: 5.7577e-04 - val_loss: 4.8340e-04 - val_mae: 0.0153 - val_mse: 4.8340e-04\n",
            "Epoch 7/100\n",
            "\n",
            "Epoch 7: val_loss improved from 0.00048 to 0.00047, saving model to best_model.h5\n"
          ]
        },
        {
          "output_type": "stream",
          "name": "stderr",
          "text": [
            "WARNING:absl:You are saving your model as an HDF5 file via `model.save()` or `keras.saving.save_model(model)`. This file format is considered legacy. We recommend using instead the native Keras format, e.g. `model.save('my_model.keras')` or `keras.saving.save_model(model, 'my_model.keras')`. \n"
          ]
        },
        {
          "output_type": "stream",
          "name": "stdout",
          "text": [
            "40/40 - 6s - 157ms/step - loss: 4.6176e-04 - mae: 0.0121 - mse: 4.6176e-04 - val_loss: 4.7143e-04 - val_mae: 0.0150 - val_mse: 4.7143e-04\n",
            "Epoch 8/100\n",
            "\n",
            "Epoch 8: val_loss did not improve from 0.00047\n",
            "40/40 - 4s - 92ms/step - loss: 4.6224e-04 - mae: 0.0125 - mse: 4.6224e-04 - val_loss: 0.0010 - val_mae: 0.0249 - val_mse: 0.0010\n",
            "Epoch 9/100\n",
            "\n",
            "Epoch 9: val_loss did not improve from 0.00047\n",
            "40/40 - 5s - 128ms/step - loss: 5.2673e-04 - mae: 0.0132 - mse: 5.2673e-04 - val_loss: 4.8532e-04 - val_mae: 0.0152 - val_mse: 4.8532e-04\n",
            "Epoch 10/100\n",
            "\n",
            "Epoch 10: val_loss improved from 0.00047 to 0.00047, saving model to best_model.h5\n"
          ]
        },
        {
          "output_type": "stream",
          "name": "stderr",
          "text": [
            "WARNING:absl:You are saving your model as an HDF5 file via `model.save()` or `keras.saving.save_model(model)`. This file format is considered legacy. We recommend using instead the native Keras format, e.g. `model.save('my_model.keras')` or `keras.saving.save_model(model, 'my_model.keras')`. \n"
          ]
        },
        {
          "output_type": "stream",
          "name": "stdout",
          "text": [
            "40/40 - 5s - 129ms/step - loss: 3.9946e-04 - mae: 0.0114 - mse: 3.9946e-04 - val_loss: 4.6758e-04 - val_mae: 0.0149 - val_mse: 4.6758e-04\n",
            "Epoch 11/100\n",
            "\n",
            "Epoch 11: val_loss improved from 0.00047 to 0.00045, saving model to best_model.h5\n"
          ]
        },
        {
          "output_type": "stream",
          "name": "stderr",
          "text": [
            "WARNING:absl:You are saving your model as an HDF5 file via `model.save()` or `keras.saving.save_model(model)`. This file format is considered legacy. We recommend using instead the native Keras format, e.g. `model.save('my_model.keras')` or `keras.saving.save_model(model, 'my_model.keras')`. \n"
          ]
        },
        {
          "output_type": "stream",
          "name": "stdout",
          "text": [
            "40/40 - 5s - 120ms/step - loss: 4.7562e-04 - mae: 0.0126 - mse: 4.7562e-04 - val_loss: 4.4789e-04 - val_mae: 0.0146 - val_mse: 4.4789e-04\n",
            "Epoch 12/100\n",
            "\n",
            "Epoch 12: val_loss improved from 0.00045 to 0.00044, saving model to best_model.h5\n"
          ]
        },
        {
          "output_type": "stream",
          "name": "stderr",
          "text": [
            "WARNING:absl:You are saving your model as an HDF5 file via `model.save()` or `keras.saving.save_model(model)`. This file format is considered legacy. We recommend using instead the native Keras format, e.g. `model.save('my_model.keras')` or `keras.saving.save_model(model, 'my_model.keras')`. \n"
          ]
        },
        {
          "output_type": "stream",
          "name": "stdout",
          "text": [
            "40/40 - 5s - 125ms/step - loss: 4.3908e-04 - mae: 0.0118 - mse: 4.3908e-04 - val_loss: 4.4125e-04 - val_mae: 0.0144 - val_mse: 4.4125e-04\n",
            "Epoch 13/100\n",
            "\n",
            "Epoch 13: val_loss did not improve from 0.00044\n",
            "40/40 - 4s - 90ms/step - loss: 4.6649e-04 - mae: 0.0134 - mse: 4.6649e-04 - val_loss: 6.8755e-04 - val_mae: 0.0197 - val_mse: 6.8755e-04\n",
            "Epoch 14/100\n",
            "\n",
            "Epoch 14: val_loss improved from 0.00044 to 0.00043, saving model to best_model.h5\n"
          ]
        },
        {
          "output_type": "stream",
          "name": "stderr",
          "text": [
            "WARNING:absl:You are saving your model as an HDF5 file via `model.save()` or `keras.saving.save_model(model)`. This file format is considered legacy. We recommend using instead the native Keras format, e.g. `model.save('my_model.keras')` or `keras.saving.save_model(model, 'my_model.keras')`. \n"
          ]
        },
        {
          "output_type": "stream",
          "name": "stdout",
          "text": [
            "40/40 - 5s - 124ms/step - loss: 3.6786e-04 - mae: 0.0109 - mse: 3.6786e-04 - val_loss: 4.3319e-04 - val_mae: 0.0143 - val_mse: 4.3319e-04\n",
            "Epoch 15/100\n",
            "\n",
            "Epoch 15: val_loss improved from 0.00043 to 0.00042, saving model to best_model.h5\n"
          ]
        },
        {
          "output_type": "stream",
          "name": "stderr",
          "text": [
            "WARNING:absl:You are saving your model as an HDF5 file via `model.save()` or `keras.saving.save_model(model)`. This file format is considered legacy. We recommend using instead the native Keras format, e.g. `model.save('my_model.keras')` or `keras.saving.save_model(model, 'my_model.keras')`. \n"
          ]
        },
        {
          "output_type": "stream",
          "name": "stdout",
          "text": [
            "40/40 - 6s - 140ms/step - loss: 4.1007e-04 - mae: 0.0116 - mse: 4.1007e-04 - val_loss: 4.1871e-04 - val_mae: 0.0141 - val_mse: 4.1871e-04\n",
            "Epoch 16/100\n",
            "\n",
            "Epoch 16: val_loss did not improve from 0.00042\n",
            "40/40 - 5s - 117ms/step - loss: 3.9915e-04 - mae: 0.0114 - mse: 3.9915e-04 - val_loss: 9.0547e-04 - val_mae: 0.0239 - val_mse: 9.0547e-04\n",
            "Epoch 17/100\n",
            "\n",
            "Epoch 17: val_loss did not improve from 0.00042\n",
            "40/40 - 7s - 170ms/step - loss: 4.6303e-04 - mae: 0.0123 - mse: 4.6303e-04 - val_loss: 5.6670e-04 - val_mae: 0.0168 - val_mse: 5.6670e-04\n",
            "Epoch 18/100\n",
            "\n",
            "Epoch 18: val_loss improved from 0.00042 to 0.00040, saving model to best_model.h5\n"
          ]
        },
        {
          "output_type": "stream",
          "name": "stderr",
          "text": [
            "WARNING:absl:You are saving your model as an HDF5 file via `model.save()` or `keras.saving.save_model(model)`. This file format is considered legacy. We recommend using instead the native Keras format, e.g. `model.save('my_model.keras')` or `keras.saving.save_model(model, 'my_model.keras')`. \n"
          ]
        },
        {
          "output_type": "stream",
          "name": "stdout",
          "text": [
            "40/40 - 9s - 218ms/step - loss: 3.6367e-04 - mae: 0.0110 - mse: 3.6367e-04 - val_loss: 4.0069e-04 - val_mae: 0.0137 - val_mse: 4.0069e-04\n",
            "Epoch 19/100\n",
            "\n",
            "Epoch 19: val_loss did not improve from 0.00040\n",
            "40/40 - 5s - 119ms/step - loss: 3.5396e-04 - mae: 0.0109 - mse: 3.5396e-04 - val_loss: 7.6135e-04 - val_mae: 0.0217 - val_mse: 7.6135e-04\n",
            "Epoch 20/100\n",
            "\n",
            "Epoch 20: val_loss did not improve from 0.00040\n",
            "40/40 - 4s - 94ms/step - loss: 4.2720e-04 - mae: 0.0124 - mse: 4.2720e-04 - val_loss: 4.4844e-04 - val_mae: 0.0153 - val_mse: 4.4844e-04\n",
            "Epoch 21/100\n",
            "\n",
            "Epoch 21: val_loss did not improve from 0.00040\n",
            "40/40 - 3s - 79ms/step - loss: 3.7159e-04 - mae: 0.0109 - mse: 3.7159e-04 - val_loss: 4.2696e-04 - val_mae: 0.0143 - val_mse: 4.2696e-04\n",
            "Epoch 22/100\n",
            "\n",
            "Epoch 22: val_loss improved from 0.00040 to 0.00040, saving model to best_model.h5\n"
          ]
        },
        {
          "output_type": "stream",
          "name": "stderr",
          "text": [
            "WARNING:absl:You are saving your model as an HDF5 file via `model.save()` or `keras.saving.save_model(model)`. This file format is considered legacy. We recommend using instead the native Keras format, e.g. `model.save('my_model.keras')` or `keras.saving.save_model(model, 'my_model.keras')`. \n"
          ]
        },
        {
          "output_type": "stream",
          "name": "stdout",
          "text": [
            "40/40 - 6s - 144ms/step - loss: 4.4122e-04 - mae: 0.0130 - mse: 4.4122e-04 - val_loss: 3.9771e-04 - val_mae: 0.0137 - val_mse: 3.9771e-04\n",
            "Epoch 23/100\n",
            "\n",
            "Epoch 23: val_loss did not improve from 0.00040\n",
            "40/40 - 4s - 90ms/step - loss: 3.5039e-04 - mae: 0.0101 - mse: 3.5039e-04 - val_loss: 4.8087e-04 - val_mae: 0.0150 - val_mse: 4.8087e-04\n",
            "Epoch 24/100\n",
            "\n",
            "Epoch 24: val_loss did not improve from 0.00040\n",
            "40/40 - 3s - 83ms/step - loss: 3.9671e-04 - mae: 0.0123 - mse: 3.9671e-04 - val_loss: 9.6947e-04 - val_mae: 0.0246 - val_mse: 9.6947e-04\n",
            "Epoch 25/100\n",
            "\n",
            "Epoch 25: val_loss did not improve from 0.00040\n",
            "40/40 - 5s - 124ms/step - loss: 3.5846e-04 - mae: 0.0113 - mse: 3.5846e-04 - val_loss: 4.2149e-04 - val_mae: 0.0143 - val_mse: 4.2149e-04\n",
            "Epoch 26/100\n",
            "\n",
            "Epoch 26: val_loss did not improve from 0.00040\n",
            "40/40 - 5s - 133ms/step - loss: 3.9047e-04 - mae: 0.0113 - mse: 3.9047e-04 - val_loss: 6.0193e-04 - val_mae: 0.0185 - val_mse: 6.0193e-04\n",
            "Epoch 27/100\n",
            "\n",
            "Epoch 27: val_loss improved from 0.00040 to 0.00039, saving model to best_model.h5\n"
          ]
        },
        {
          "output_type": "stream",
          "name": "stderr",
          "text": [
            "WARNING:absl:You are saving your model as an HDF5 file via `model.save()` or `keras.saving.save_model(model)`. This file format is considered legacy. We recommend using instead the native Keras format, e.g. `model.save('my_model.keras')` or `keras.saving.save_model(model, 'my_model.keras')`. \n"
          ]
        },
        {
          "output_type": "stream",
          "name": "stdout",
          "text": [
            "40/40 - 6s - 151ms/step - loss: 4.0349e-04 - mae: 0.0120 - mse: 4.0349e-04 - val_loss: 3.8524e-04 - val_mae: 0.0136 - val_mse: 3.8524e-04\n",
            "Epoch 28/100\n",
            "\n",
            "Epoch 28: val_loss improved from 0.00039 to 0.00037, saving model to best_model.h5\n"
          ]
        },
        {
          "output_type": "stream",
          "name": "stderr",
          "text": [
            "WARNING:absl:You are saving your model as an HDF5 file via `model.save()` or `keras.saving.save_model(model)`. This file format is considered legacy. We recommend using instead the native Keras format, e.g. `model.save('my_model.keras')` or `keras.saving.save_model(model, 'my_model.keras')`. \n"
          ]
        },
        {
          "output_type": "stream",
          "name": "stdout",
          "text": [
            "40/40 - 4s - 104ms/step - loss: 4.4476e-04 - mae: 0.0129 - mse: 4.4476e-04 - val_loss: 3.6910e-04 - val_mae: 0.0128 - val_mse: 3.6910e-04\n",
            "Epoch 29/100\n",
            "\n",
            "Epoch 29: val_loss did not improve from 0.00037\n",
            "40/40 - 6s - 158ms/step - loss: 3.1701e-04 - mae: 0.0106 - mse: 3.1701e-04 - val_loss: 3.8388e-04 - val_mae: 0.0131 - val_mse: 3.8388e-04\n",
            "Epoch 30/100\n",
            "\n",
            "Epoch 30: val_loss did not improve from 0.00037\n",
            "40/40 - 4s - 96ms/step - loss: 3.1934e-04 - mae: 0.0102 - mse: 3.1934e-04 - val_loss: 5.5515e-04 - val_mae: 0.0175 - val_mse: 5.5515e-04\n",
            "Epoch 31/100\n",
            "\n",
            "Epoch 31: val_loss did not improve from 0.00037\n",
            "40/40 - 3s - 79ms/step - loss: 3.7881e-04 - mae: 0.0107 - mse: 3.7881e-04 - val_loss: 4.3909e-04 - val_mae: 0.0153 - val_mse: 4.3909e-04\n",
            "Epoch 32/100\n",
            "\n",
            "Epoch 32: val_loss did not improve from 0.00037\n",
            "40/40 - 4s - 105ms/step - loss: 3.4420e-04 - mae: 0.0102 - mse: 3.4420e-04 - val_loss: 5.9801e-04 - val_mae: 0.0184 - val_mse: 5.9801e-04\n",
            "Epoch 33/100\n",
            "\n",
            "Epoch 33: val_loss did not improve from 0.00037\n",
            "40/40 - 4s - 104ms/step - loss: 4.2675e-04 - mae: 0.0130 - mse: 4.2675e-04 - val_loss: 5.7794e-04 - val_mae: 0.0187 - val_mse: 5.7794e-04\n",
            "Epoch 33: early stopping\n"
          ]
        },
        {
          "output_type": "execute_result",
          "data": {
            "text/plain": [
              "<keras.src.callbacks.history.History at 0x7918edcdf320>"
            ]
          },
          "metadata": {},
          "execution_count": 48
        }
      ],
      "source": [
        "# 모델 학습\n",
        "model.fit(x_train, y_train, epochs=100, validation_data=(x_test, y_test),callbacks=[es,mc], batch_size=32, validation_split=0.1, verbose=2)\n",
        "\n",
        "# x_train : 학습데이터의 입력값   , y_train : 학습데이터의 출력값이다.\n",
        "\n",
        "# 에포크 : 훈련 데이터셋에 포함된 모든 데이터들이 한 번씩 모델을 통과한 횟수 또는 전체 학습 데이터셋에 대한 반복 횟수이다\n",
        "# 에포크가 높을수록 더 많은 반복 학습을 수행하게 되므로 모델이 더 많은 학습을 하게 되어 일반적으로 더 좋은 성능을 낼 수 있습니다\n",
        "\n",
        "# batch_size(배치크기) : 학습을 수행할 때, 몇 개의 데이터를 한 번에 처리할지를 지정한다, 일반적으로 32,64, 128 숫자를 사용한다\n",
        "\n",
        "# verbose : 학습 과정 중 출력되는 문구를 설정합니다. 0일 경우 출력하지 않으며, 1일 경우 학습 진행 상황을 출력하고, 2일 경우 학습 결과만 출력한다"
      ]
    },
    {
      "cell_type": "markdown",
      "metadata": {
        "id": "dPRvDyBKykyY"
      },
      "source": [
        "## 1-5. 예측"
      ]
    },
    {
      "cell_type": "code",
      "execution_count": 38,
      "metadata": {
        "colab": {
          "base_uri": "https://localhost:8080/"
        },
        "id": "KxD_8ndWw58i",
        "outputId": "e42a893c-3bc2-4a8f-afdf-f158968b1770"
      },
      "outputs": [
        {
          "output_type": "stream",
          "name": "stdout",
          "text": [
            "\u001b[1m40/40\u001b[0m \u001b[32m━━━━━━━━━━━━━━━━━━━━\u001b[0m\u001b[37m\u001b[0m \u001b[1m1s\u001b[0m 26ms/step\n",
            "\u001b[1m16/16\u001b[0m \u001b[32m━━━━━━━━━━━━━━━━━━━━\u001b[0m\u001b[37m\u001b[0m \u001b[1m0s\u001b[0m 25ms/step\n"
          ]
        }
      ],
      "source": [
        "# 예측\n",
        "train_predict = model.predict(x_train)  # (1759, 6)\n",
        "test_predict = model.predict(x_test) #  (738, 6)\n",
        "\n",
        "# model.predict(x_train) 은 학습된 모델을 이용하여 train 데이터에 대한 예측값을 계산한다\n",
        "# mode.predict(x_test) 은 학습된 모델을 이용하여 test 데이터에 대한 예측값을 계산한다.\n",
        "\n",
        "train_predict = scaler.inverse_transform(train_predict)\n",
        "y_train = scaler.inverse_transform(y_train.reshape(-1,1))\n",
        "test_predict = scaler.inverse_transform(test_predict)\n",
        "y_test = scaler.inverse_transform(y_test.reshape(-1,1))"
      ]
    },
    {
      "cell_type": "code",
      "source": [
        "train_predict.shape, y_train.shape, test_predict.shape, y_test.shape"
      ],
      "metadata": {
        "colab": {
          "base_uri": "https://localhost:8080/"
        },
        "id": "uDWw8gNZlymR",
        "outputId": "490d9967-df32-4bdf-bcc6-91af2b188df8"
      },
      "execution_count": null,
      "outputs": [
        {
          "output_type": "execute_result",
          "data": {
            "text/plain": [
              "((1892, 1), (1892, 1), (777, 1), (777, 1))"
            ]
          },
          "metadata": {},
          "execution_count": 115
        }
      ]
    },
    {
      "cell_type": "markdown",
      "metadata": {
        "id": "3VZ6cZH9y6xI"
      },
      "source": [
        "## 1-6. 모델 시각화\n",
        "### https://wikidocs.net/92088"
      ]
    },
    {
      "cell_type": "code",
      "source": [
        "import datetime\n",
        "import matplotlib.pyplot as plt\n",
        "import matplotlib.ticker as mticker\n",
        "\n",
        "# train 데이터 예측 결과 시각화\n",
        "plt.figure(figsize=(14, 6))\n",
        "\n",
        "# y_train의 X축 데이터는 train_data 범위 내에서 look_back을 제외한 기간\n",
        "plt.plot(df[look_back : len(train_data)].index, y_train, label='Actual Train Price')  # len(train_data) : 1789 , len(y_train): 1759\n",
        "plt.plot(df[look_back : len(train_data)].index, train_predict, label='Predicted Train Price')  # len(train_predict) : 1759\n",
        "\n",
        "# y_test의 X축 데이터는 test_data 범위 내에서 look_back을 제외한 기간\n",
        "plt.plot(df[len(train_data) + look_back : len(df)].index, y_test, label='Actual Test Price') # len(df) : 2557\n",
        "plt.plot(df[len(train_data) + look_back : len(df)].index, test_predict, label='Predicted Test Price')\n",
        "\n",
        "# 2023년 2월 1일에 빨간색 세로축을 추가합니다. 미국이 기준금리 인상(4.5% -> 4.75%)\n",
        "target_date = datetime.datetime(2023,2,1)\n",
        "plt.axvline(x=target_date, color='red', linestyle='--')\n",
        "\n",
        "# 2022년 2월 24일에 빨간색 세로축을 추가합니다. (우크라이나 전쟁)\n",
        "tar_date = datetime.datetime(2022, 2, 24)\n",
        "plt.axvline(x=tar_date, color='red', linestyle='--')\n",
        "plt.gca().yaxis.set_major_formatter(mticker.FuncFormatter(lambda x, _: f'{round(int(x)/1400,1):,}$')) # y축 달러로 설정\n",
        "plt.grid(True, axis='y') # 그리드 설정\n",
        "\n",
        "# 범례를 표시하여 각 선이 무엇을 의미하는지 보여줍니다.\n",
        "plt.legend()\n",
        "plt.title(\"GRU prediction model\")\n",
        "plt.xlabel('Date')\n",
        "plt.ylabel('Price')\n",
        "plt.legend()\n",
        "plt.show()"
      ],
      "metadata": {
        "colab": {
          "base_uri": "https://localhost:8080/",
          "height": 564
        },
        "id": "3ESQGtfcyaEG",
        "outputId": "7ed038c3-8064-4019-d433-2f33b2bb0e76"
      },
      "execution_count": 22,
      "outputs": [
        {
          "output_type": "display_data",
          "data": {
            "text/plain": [
              "<Figure size 1400x600 with 1 Axes>"
            ],
            "image/png": "[encoded data removed]"
          },
          "metadata": {}
        }
      ]
    },
    {
      "cell_type": "code",
      "source": [
        "# 모델 정확도 판별\n",
        "from sklearn.metrics import mean_squared_error\n",
        "from sklearn.metrics import r2_score\n",
        "from sklearn.metrics import mean_squared_error\n",
        "from sklearn.metrics import mean_absolute_error\n",
        "\n",
        "mae_train= mean_absolute_error(y_train, train_predict)\n",
        "mae_test= mean_absolute_error(y_test, test_predict)\n",
        "\n",
        "mse_train= mean_squared_error(y_train, train_predict)\n",
        "mse_test= mean_squared_error(y_test, test_predict)\n",
        "\n",
        "rmse_train = np.sqrt(mse_train)\n",
        "rmse_test = np.sqrt(mse_test)\n",
        "\n",
        "train_r2_score = r2_score(y_train, train_predict)\n",
        "test_r2_score = r2_score(y_test, test_predict)\n",
        "\n",
        "print(f\"mae_train Score: {mae_train:.3f}\")\n",
        "print(f\"mae_test Score: {mae_test:.3f}\")\n",
        "\n",
        "print(f\"mse_train Score: {mse_train:.3f}\")\n",
        "print(f\"mse_test Score: {mse_test:.3f}\")\n",
        "\n",
        "print(f\"rmse_train Score: {rmse_train:.3f}\")\n",
        "print(f\"rmse_testScore: {rmse_test:.3f}\")\n",
        "\n",
        "print(f\"Train R2 Score: {train_r2_score:.3f}\")\n",
        "print(f\"Test R2 Score: {test_r2_score:.3f}\")\n",
        "\n",
        "# mae_train Score: 578629.945\n",
        "# mae_test Score: 1136128.407\n",
        "# mse_train Score: 1246054783299.394\n",
        "# mse_test Score: 2766728317737.810\n",
        "# rmse_train Score: 1116268.240\n",
        "# rmse_testScore: 1663348.526\n",
        "# Train R2 Score: 0.995\n",
        "# Test R2 Score: 0.989"
      ],
      "metadata": {
        "colab": {
          "base_uri": "https://localhost:8080/"
        },
        "id": "b73XcmDP9nuj",
        "outputId": "37ccc901-e92f-4bb5-a409-c990bbc65cbe"
      },
      "execution_count": 39,
      "outputs": [
        {
          "output_type": "stream",
          "name": "stdout",
          "text": [
            "mae_train Score: 589221.529\n",
            "mae_test Score: 922435.498\n",
            "mse_train Score: 1031082479376.108\n",
            "mse_test Score: 1914594373543.391\n",
            "rmse_train Score: 1015422.316\n",
            "rmse_testScore: 1383688.684\n",
            "Train R2 Score: 0.996\n",
            "Test R2 Score: 0.992\n"
          ]
        }
      ]
    },
    {
      "cell_type": "markdown",
      "source": [
        "## 뉴스 크롤링후 긍정인 말 이있으면 1, 부정인말이있으면 0 으로 라벨링"
      ],
      "metadata": {
        "id": "35e81YqAT7Ou"
      }
    },
    {
      "cell_type": "markdown",
      "source": [
        "## 크롤링\n",
        "## https://wikidocs.net/85739\n",
        "## https://www.inflearn.com/course/%ED%8C%8C%EC%9D%B4%EC%8D%AC-%ED%81%AC%EB%A1%A4%EB%A7%81-%EA%B8%B0%EC%B4%88/dashboard"
      ],
      "metadata": {
        "id": "f5t3YpZ2X3Vk"
      }
    },
    {
      "cell_type": "code",
      "source": [
        "pip install pygooglenews"
      ],
      "metadata": {
        "colab": {
          "base_uri": "https://localhost:8080/"
        },
        "id": "iY7XN4jHT66W",
        "outputId": "d7b92971-bb8e-416d-db23-51ff4f15bc1b"
      },
      "execution_count": null,
      "outputs": [
        {
          "output_type": "stream",
          "name": "stdout",
          "text": [
            "Collecting pygooglenews\n",
            "  Downloading pygooglenews-0.1.3-py3-none-any.whl.metadata (19 kB)\n",
            "Requirement already satisfied: beautifulsoup4<5.0.0,>=4.11.1 in /usr/local/lib/python3.12/dist-packages (from pygooglenews) (4.13.4)\n",
            "Collecting dateparser<2.0.0,>=1.1.1 (from pygooglenews)\n",
            "  Downloading dateparser-1.2.2-py3-none-any.whl.metadata (29 kB)\n",
            "Collecting feedparser<7.0.0,>=6.0.8 (from pygooglenews)\n",
            "  Downloading feedparser-6.0.11-py3-none-any.whl.metadata (2.4 kB)\n",
            "Requirement already satisfied: requests<3.0.0,>=2.28.1 in /usr/local/lib/python3.12/dist-packages (from pygooglenews) (2.32.4)\n",
            "Requirement already satisfied: soupsieve>1.2 in /usr/local/lib/python3.12/dist-packages (from beautifulsoup4<5.0.0,>=4.11.1->pygooglenews) (2.7)\n",
            "Requirement already satisfied: typing-extensions>=4.0.0 in /usr/local/lib/python3.12/dist-packages (from beautifulsoup4<5.0.0,>=4.11.1->pygooglenews) (4.14.1)\n",
            "Requirement already satisfied: python-dateutil>=2.7.0 in /usr/local/lib/python3.12/dist-packages (from dateparser<2.0.0,>=1.1.1->pygooglenews) (2.9.0.post0)\n",
            "Requirement already satisfied: pytz>=2024.2 in /usr/local/lib/python3.12/dist-packages (from dateparser<2.0.0,>=1.1.1->pygooglenews) (2025.2)\n",
            "Requirement already satisfied: regex>=2024.9.11 in /usr/local/lib/python3.12/dist-packages (from dateparser<2.0.0,>=1.1.1->pygooglenews) (2024.11.6)\n",
            "Requirement already satisfied: tzlocal>=0.2 in /usr/local/lib/python3.12/dist-packages (from dateparser<2.0.0,>=1.1.1->pygooglenews) (5.3.1)\n",
            "Collecting sgmllib3k (from feedparser<7.0.0,>=6.0.8->pygooglenews)\n",
            "  Downloading sgmllib3k-1.0.0.tar.gz (5.8 kB)\n",
            "  Preparing metadata (setup.py) ... \u001b[?25l\u001b[?25hdone\n",
            "Requirement already satisfied: charset_normalizer<4,>=2 in /usr/local/lib/python3.12/dist-packages (from requests<3.0.0,>=2.28.1->pygooglenews) (3.4.3)\n",
            "Requirement already satisfied: idna<4,>=2.5 in /usr/local/lib/python3.12/dist-packages (from requests<3.0.0,>=2.28.1->pygooglenews) (3.10)\n",
            "Requirement already satisfied: urllib3<3,>=1.21.1 in /usr/local/lib/python3.12/dist-packages (from requests<3.0.0,>=2.28.1->pygooglenews) (2.5.0)\n",
            "Requirement already satisfied: certifi>=2017.4.17 in /usr/local/lib/python3.12/dist-packages (from requests<3.0.0,>=2.28.1->pygooglenews) (2025.8.3)\n",
            "Requirement already satisfied: six>=1.5 in /usr/local/lib/python3.12/dist-packages (from python-dateutil>=2.7.0->dateparser<2.0.0,>=1.1.1->pygooglenews) (1.17.0)\n",
            "Downloading pygooglenews-0.1.3-py3-none-any.whl (10 kB)\n",
            "Downloading dateparser-1.2.2-py3-none-any.whl (315 kB)\n",
            "\u001b[2K   \u001b[90m━━━━━━━━━━━━━━━━━━━━━━━━━━━━━━━━━━━━━━━━\u001b[0m \u001b[32m315.5/315.5 kB\u001b[0m \u001b[31m11.3 MB/s\u001b[0m eta \u001b[36m0:00:00\u001b[0m\n",
            "\u001b[?25hDownloading feedparser-6.0.11-py3-none-any.whl (81 kB)\n",
            "\u001b[2K   \u001b[90m━━━━━━━━━━━━━━━━━━━━━━━━━━━━━━━━━━━━━━━━\u001b[0m \u001b[32m81.3/81.3 kB\u001b[0m \u001b[31m5.4 MB/s\u001b[0m eta \u001b[36m0:00:00\u001b[0m\n",
            "\u001b[?25hBuilding wheels for collected packages: sgmllib3k\n",
            "  Building wheel for sgmllib3k (setup.py) ... \u001b[?25l\u001b[?25hdone\n",
            "  Created wheel for sgmllib3k: filename=sgmllib3k-1.0.0-py3-none-any.whl size=6046 sha256=a4a15fff038861a66472817c6b1b274d126348faecce2c9543ea58c4fe2b6109\n",
            "  Stored in directory: /root/.cache/pip/wheels/03/f5/1a/23761066dac1d0e8e683e5fdb27e12de53209d05a4a37e6246\n",
            "Successfully built sgmllib3k\n",
            "Installing collected packages: sgmllib3k, feedparser, dateparser, pygooglenews\n",
            "Successfully installed dateparser-1.2.2 feedparser-6.0.11 pygooglenews-0.1.3 sgmllib3k-1.0.0\n"
          ]
        }
      ]
    },
    {
      "cell_type": "code",
      "source": [],
      "metadata": {
        "id": "a6lVCaa6XY7s"
      },
      "execution_count": null,
      "outputs": []
    },
    {
      "cell_type": "code",
      "source": [],
      "metadata": {
        "id": "LsR2nCDlhQAu"
      },
      "execution_count": null,
      "outputs": []
    }
  ],
  "metadata": {
    "colab": {
      "provenance": []
    },
    "kernelspec": {
      "display_name": "Python 3",
      "name": "python3"
    },
    "language_info": {
      "name": "python"
    }
  },
  "nbformat": 4,
  "nbformat_minor": 0
}