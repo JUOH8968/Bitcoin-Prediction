{
  "cells": [
    {
      "cell_type": "markdown",
      "metadata": {
        "id": "4pqj0Ued4JtX"
      },
      "source": [
        "#############\n",
        "### 0. 데이터 증가(2012.05.20~ 2025.05.20)\n",
        "### 1. 트럼프 관세(비트코인영향)\n",
        "### 2. dropout(정규화), early stoping  -> 과적합방지\n",
        "### 3. learning late ==> 하이퍼파라미터\n",
        "### 4. 함수로 묶기"
      ]
    },
    {
      "cell_type": "markdown",
      "metadata": {
        "id": "jn2_Wc4ix8W3"
      },
      "source": [
        "# 1. GRU 모델을 사용하여 비트코인 예측하는 프로그램"
      ]
    },
    {
      "cell_type": "markdown",
      "metadata": {
        "id": "ZdXNQI2HyhXi"
      },
      "source": [
        "##  1- 1. 데이터 불러오기 ( 2018년~ 2022년 데이터 학습 한후 2023년 예측)\n"
      ]
    },
    {
      "cell_type": "code",
      "execution_count": null,
      "metadata": {
        "colab": {
          "base_uri": "https://localhost:8080/"
        },
        "id": "W_sSfQPwtVAJ",
        "outputId": "8d9b8cda-de01-409a-8d68-ca73c475c0bd"
      },
      "outputs": [
        {
          "output_type": "stream",
          "name": "stdout",
          "text": [
            "Collecting finance-datareader\n",
            "  Downloading finance_datareader-0.9.96-py3-none-any.whl.metadata (12 kB)\n",
            "Requirement already satisfied: beautifulsoup4 in /usr/local/lib/python3.12/dist-packages (from finance-datareader) (4.13.5)\n",
            "Requirement already satisfied: lxml in /usr/local/lib/python3.12/dist-packages (from finance-datareader) (5.4.0)\n",
            "Requirement already satisfied: pandas>=1.1.0 in /usr/local/lib/python3.12/dist-packages (from finance-datareader) (2.2.2)\n",
            "Requirement already satisfied: plotly in /usr/local/lib/python3.12/dist-packages (from finance-datareader) (5.24.1)\n",
            "Collecting requests-file (from finance-datareader)\n",
            "  Downloading requests_file-2.1.0-py2.py3-none-any.whl.metadata (1.7 kB)\n",
            "Requirement already satisfied: requests>=2.3.0 in /usr/local/lib/python3.12/dist-packages (from finance-datareader) (2.32.4)\n",
            "Requirement already satisfied: tqdm in /usr/local/lib/python3.12/dist-packages (from finance-datareader) (4.67.1)\n",
            "Requirement already satisfied: numpy>=1.26.0 in /usr/local/lib/python3.12/dist-packages (from pandas>=1.1.0->finance-datareader) (2.0.2)\n",
            "Requirement already satisfied: python-dateutil>=2.8.2 in /usr/local/lib/python3.12/dist-packages (from pandas>=1.1.0->finance-datareader) (2.9.0.post0)\n",
            "Requirement already satisfied: pytz>=2020.1 in /usr/local/lib/python3.12/dist-packages (from pandas>=1.1.0->finance-datareader) (2025.2)\n",
            "Requirement already satisfied: tzdata>=2022.7 in /usr/local/lib/python3.12/dist-packages (from pandas>=1.1.0->finance-datareader) (2025.2)\n",
            "Requirement already satisfied: charset_normalizer<4,>=2 in /usr/local/lib/python3.12/dist-packages (from requests>=2.3.0->finance-datareader) (3.4.3)\n",
            "Requirement already satisfied: idna<4,>=2.5 in /usr/local/lib/python3.12/dist-packages (from requests>=2.3.0->finance-datareader) (3.10)\n",
            "Requirement already satisfied: urllib3<3,>=1.21.1 in /usr/local/lib/python3.12/dist-packages (from requests>=2.3.0->finance-datareader) (2.5.0)\n",
            "Requirement already satisfied: certifi>=2017.4.17 in /usr/local/lib/python3.12/dist-packages (from requests>=2.3.0->finance-datareader) (2025.8.3)\n",
            "Requirement already satisfied: soupsieve>1.2 in /usr/local/lib/python3.12/dist-packages (from beautifulsoup4->finance-datareader) (2.7)\n",
            "Requirement already satisfied: typing-extensions>=4.0.0 in /usr/local/lib/python3.12/dist-packages (from beautifulsoup4->finance-datareader) (4.15.0)\n",
            "Requirement already satisfied: tenacity>=6.2.0 in /usr/local/lib/python3.12/dist-packages (from plotly->finance-datareader) (8.5.0)\n",
            "Requirement already satisfied: packaging in /usr/local/lib/python3.12/dist-packages (from plotly->finance-datareader) (25.0)\n",
            "Requirement already satisfied: six>=1.5 in /usr/local/lib/python3.12/dist-packages (from python-dateutil>=2.8.2->pandas>=1.1.0->finance-datareader) (1.17.0)\n",
            "Downloading finance_datareader-0.9.96-py3-none-any.whl (48 kB)\n",
            "\u001b[2K   \u001b[90m━━━━━━━━━━━━━━━━━━━━━━━━━━━━━━━━━━━━━━━━\u001b[0m \u001b[32m48.2/48.2 kB\u001b[0m \u001b[31m3.1 MB/s\u001b[0m eta \u001b[36m0:00:00\u001b[0m\n",
            "\u001b[?25hDownloading requests_file-2.1.0-py2.py3-none-any.whl (4.2 kB)\n",
            "Installing collected packages: requests-file, finance-datareader\n",
            "Successfully installed finance-datareader-0.9.96 requests-file-2.1.0\n"
          ]
        }
      ],
      "source": [
        "!pip install finance-datareader # FinanceDataReader에서 데이터를 불러오기 위해 FinanceDataReader를 설치하는 과정"
      ]
    },
    {
      "cell_type": "code",
      "execution_count": null,
      "metadata": {
        "id": "UmGimVWdtPgI"
      },
      "outputs": [],
      "source": [
        "#### 나스닥 지수 + 환율데이터 + 코인데이터 를 활용하여 종가 예측하기\n",
        "#### 추가로  뉴스 및 소셜 미디어 감성 분석을 하여 긍정인 뉴스는 1로, 부정인 뉴스는 0으로 라벨링 하여 진행하기\n",
        "############# 이코드 사용하기\n",
        "import pandas as pd\n",
        "import numpy as np\n",
        "import FinanceDataReader as fdr\n",
        "import matplotlib.pyplot as plt\n",
        "from sklearn.preprocessing import MinMaxScaler\n",
        "from tensorflow.keras.models import Sequential\n",
        "from tensorflow.keras.layers import Dense, GRU,Dropout\n",
        "from sklearn.metrics import r2_score\n",
        "from tensorflow.keras.callbacks import EarlyStopping, ModelCheckpoint\n",
        "\n",
        "# 데이터 불러오기\n",
        "start_date = \"2018-01-01\" # \"2018-01-01\"\n",
        "end_date = \"2025-08-20\"  #23.03.01  ,   \"2022-12-31\"\n",
        "ticker = \"BTC/KRW\"  # 한국거래소에서 비트코인을 가격 데이터 가져오기\n",
        "df = pd.DataFrame(fdr.DataReader(ticker, start_date, end_date))"
      ]
    },
    {
      "cell_type": "code",
      "execution_count": null,
      "metadata": {
        "colab": {
          "base_uri": "https://localhost:8080/",
          "height": 423
        },
        "id": "jJJjQw5kBUud",
        "outputId": "b03a7c0a-bf87-4805-a65d-670cc6d33eb0"
      },
      "outputs": [
        {
          "output_type": "execute_result",
          "data": {
            "text/plain": [
              "                   Open         High          Low        Close  \\\n",
              "2018-01-01   15047133.0   15046287.0   14026068.0   14548333.0   \n",
              "2018-01-02   14514031.0   16400157.0   13990142.0   15918331.0   \n",
              "2018-01-03   15914188.0   16565566.0   15788165.0   16172952.0   \n",
              "2018-01-04   16247109.0   16707220.0   15433904.0   16552935.0   \n",
              "2018-01-05   16423476.0   18802922.0   16131843.0   18510128.0   \n",
              "...                 ...          ...          ...          ...   \n",
              "2025-08-16  163062880.0  163892992.0  162887216.0  163191952.0   \n",
              "2025-08-17  163193952.0  164725968.0  162897744.0  163140304.0   \n",
              "2025-08-18  163141488.0  163351968.0  158934064.0  161347344.0   \n",
              "2025-08-19  161332832.0  162093312.0  156985728.0  157099520.0   \n",
              "2025-08-20  157095136.0  160236432.0  157197568.0  159745696.0   \n",
              "\n",
              "                     Volume    Adj Close  \n",
              "2018-01-01   10962700800000   14548333.0  \n",
              "2018-01-02   17899344238000   15918331.0  \n",
              "2018-01-03   17950689456200   16172952.0  \n",
              "2018-01-04   23115024576400   16552935.0  \n",
              "2018-01-05   25319034814500   18510128.0  \n",
              "...                     ...          ...  \n",
              "2025-08-16   66721844074894  163191952.0  \n",
              "2025-08-17   63687885589014  163140304.0  \n",
              "2025-08-18  101022672841988  161347344.0  \n",
              "2025-08-19   99771847179021  157099520.0  \n",
              "2025-08-20   95049163047711  159745696.0  \n",
              "\n",
              "[2789 rows x 6 columns]"
            ],
            "text/html": [
              "\n",
              "  <div id=\"df-687d3626-4017-46ee-a279-54f979236922\" class=\"colab-df-container\">\n",
              "    <div>\n",
              "<style scoped>\n",
              "    .dataframe tbody tr th:only-of-type {\n",
              "        vertical-align: middle;\n",
              "    }\n",
              "\n",
              "    .dataframe tbody tr th {\n",
              "        vertical-align: top;\n",
              "    }\n",
              "\n",
              "    .dataframe thead th {\n",
              "        text-align: right;\n",
              "    }\n",
              "</style>\n",
              "<table border=\"1\" class=\"dataframe\">\n",
              "  <thead>\n",
              "    <tr style=\"text-align: right;\">\n",
              "      <th></th>\n",
              "      <th>Open</th>\n",
              "      <th>High</th>\n",
              "      <th>Low</th>\n",
              "      <th>Close</th>\n",
              "      <th>Volume</th>\n",
              "      <th>Adj Close</th>\n",
              "    </tr>\n",
              "  </thead>\n",
              "  <tbody>\n",
              "    <tr>\n",
              "      <th>2018-01-01</th>\n",
              "      <td>15047133.0</td>\n",
              "      <td>15046287.0</td>\n",
              "      <td>14026068.0</td>\n",
              "      <td>14548333.0</td>\n",
              "      <td>10962700800000</td>\n",
              "      <td>14548333.0</td>\n",
              "    </tr>\n",
              "    <tr>\n",
              "      <th>2018-01-02</th>\n",
              "      <td>14514031.0</td>\n",
              "      <td>16400157.0</td>\n",
              "      <td>13990142.0</td>\n",
              "      <td>15918331.0</td>\n",
              "      <td>17899344238000</td>\n",
              "      <td>15918331.0</td>\n",
              "    </tr>\n",
              "    <tr>\n",
              "      <th>2018-01-03</th>\n",
              "      <td>15914188.0</td>\n",
              "      <td>16565566.0</td>\n",
              "      <td>15788165.0</td>\n",
              "      <td>16172952.0</td>\n",
              "      <td>17950689456200</td>\n",
              "      <td>16172952.0</td>\n",
              "    </tr>\n",
              "    <tr>\n",
              "      <th>2018-01-04</th>\n",
              "      <td>16247109.0</td>\n",
              "      <td>16707220.0</td>\n",
              "      <td>15433904.0</td>\n",
              "      <td>16552935.0</td>\n",
              "      <td>23115024576400</td>\n",
              "      <td>16552935.0</td>\n",
              "    </tr>\n",
              "    <tr>\n",
              "      <th>2018-01-05</th>\n",
              "      <td>16423476.0</td>\n",
              "      <td>18802922.0</td>\n",
              "      <td>16131843.0</td>\n",
              "      <td>18510128.0</td>\n",
              "      <td>25319034814500</td>\n",
              "      <td>18510128.0</td>\n",
              "    </tr>\n",
              "    <tr>\n",
              "      <th>...</th>\n",
              "      <td>...</td>\n",
              "      <td>...</td>\n",
              "      <td>...</td>\n",
              "      <td>...</td>\n",
              "      <td>...</td>\n",
              "      <td>...</td>\n",
              "    </tr>\n",
              "    <tr>\n",
              "      <th>2025-08-16</th>\n",
              "      <td>163062880.0</td>\n",
              "      <td>163892992.0</td>\n",
              "      <td>162887216.0</td>\n",
              "      <td>163191952.0</td>\n",
              "      <td>66721844074894</td>\n",
              "      <td>163191952.0</td>\n",
              "    </tr>\n",
              "    <tr>\n",
              "      <th>2025-08-17</th>\n",
              "      <td>163193952.0</td>\n",
              "      <td>164725968.0</td>\n",
              "      <td>162897744.0</td>\n",
              "      <td>163140304.0</td>\n",
              "      <td>63687885589014</td>\n",
              "      <td>163140304.0</td>\n",
              "    </tr>\n",
              "    <tr>\n",
              "      <th>2025-08-18</th>\n",
              "      <td>163141488.0</td>\n",
              "      <td>163351968.0</td>\n",
              "      <td>158934064.0</td>\n",
              "      <td>161347344.0</td>\n",
              "      <td>101022672841988</td>\n",
              "      <td>161347344.0</td>\n",
              "    </tr>\n",
              "    <tr>\n",
              "      <th>2025-08-19</th>\n",
              "      <td>161332832.0</td>\n",
              "      <td>162093312.0</td>\n",
              "      <td>156985728.0</td>\n",
              "      <td>157099520.0</td>\n",
              "      <td>99771847179021</td>\n",
              "      <td>157099520.0</td>\n",
              "    </tr>\n",
              "    <tr>\n",
              "      <th>2025-08-20</th>\n",
              "      <td>157095136.0</td>\n",
              "      <td>160236432.0</td>\n",
              "      <td>157197568.0</td>\n",
              "      <td>159745696.0</td>\n",
              "      <td>95049163047711</td>\n",
              "      <td>159745696.0</td>\n",
              "    </tr>\n",
              "  </tbody>\n",
              "</table>\n",
              "<p>2789 rows × 6 columns</p>\n",
              "</div>\n",
              "    <div class=\"colab-df-buttons\">\n",
              "\n",
              "  <div class=\"colab-df-container\">\n",
              "    <button class=\"colab-df-convert\" onclick=\"convertToInteractive('df-687d3626-4017-46ee-a279-54f979236922')\"\n",
              "            title=\"Convert this dataframe to an interactive table.\"\n",
              "            style=\"display:none;\">\n",
              "\n",
              "  <svg xmlns=\"http://www.w3.org/2000/svg\" height=\"24px\" viewBox=\"0 -960 960 960\">\n",
              "    <path d=\"M120-120v-720h720v720H120Zm60-500h600v-160H180v160Zm220 220h160v-160H400v160Zm0 220h160v-160H400v160ZM180-400h160v-160H180v160Zm440 0h160v-160H620v160ZM180-180h160v-160H180v160Zm440 0h160v-160H620v160Z\"/>\n",
              "  </svg>\n",
              "    </button>\n",
              "\n",
              "  <style>\n",
              "    .colab-df-container {\n",
              "      display:flex;\n",
              "      gap: 12px;\n",
              "    }\n",
              "\n",
              "    .colab-df-convert {\n",
              "      background-color: #E8F0FE;\n",
              "      border: none;\n",
              "      border-radius: 50%;\n",
              "      cursor: pointer;\n",
              "      display: none;\n",
              "      fill: #1967D2;\n",
              "      height: 32px;\n",
              "      padding: 0 0 0 0;\n",
              "      width: 32px;\n",
              "    }\n",
              "\n",
              "    .colab-df-convert:hover {\n",
              "      background-color: #E2EBFA;\n",
              "      box-shadow: 0px 1px 2px rgba(60, 64, 67, 0.3), 0px 1px 3px 1px rgba(60, 64, 67, 0.15);\n",
              "      fill: #174EA6;\n",
              "    }\n",
              "\n",
              "    .colab-df-buttons div {\n",
              "      margin-bottom: 4px;\n",
              "    }\n",
              "\n",
              "    [theme=dark] .colab-df-convert {\n",
              "      background-color: #3B4455;\n",
              "      fill: #D2E3FC;\n",
              "    }\n",
              "\n",
              "    [theme=dark] .colab-df-convert:hover {\n",
              "      background-color: #434B5C;\n",
              "      box-shadow: 0px 1px 3px 1px rgba(0, 0, 0, 0.15);\n",
              "      filter: drop-shadow(0px 1px 2px rgba(0, 0, 0, 0.3));\n",
              "      fill: #FFFFFF;\n",
              "    }\n",
              "  </style>\n",
              "\n",
              "    <script>\n",
              "      const buttonEl =\n",
              "        document.querySelector('#df-687d3626-4017-46ee-a279-54f979236922 button.colab-df-convert');\n",
              "      buttonEl.style.display =\n",
              "        google.colab.kernel.accessAllowed ? 'block' : 'none';\n",
              "\n",
              "      async function convertToInteractive(key) {\n",
              "        const element = document.querySelector('#df-687d3626-4017-46ee-a279-54f979236922');\n",
              "        const dataTable =\n",
              "          await google.colab.kernel.invokeFunction('convertToInteractive',\n",
              "                                                    [key], {});\n",
              "        if (!dataTable) return;\n",
              "\n",
              "        const docLinkHtml = 'Like what you see? Visit the ' +\n",
              "          '<a target=\"_blank\" href=https://colab.research.google.com/notebooks/data_table.ipynb>data table notebook</a>'\n",
              "          + ' to learn more about interactive tables.';\n",
              "        element.innerHTML = '';\n",
              "        dataTable['output_type'] = 'display_data';\n",
              "        await google.colab.output.renderOutput(dataTable, element);\n",
              "        const docLink = document.createElement('div');\n",
              "        docLink.innerHTML = docLinkHtml;\n",
              "        element.appendChild(docLink);\n",
              "      }\n",
              "    </script>\n",
              "  </div>\n",
              "\n",
              "\n",
              "    <div id=\"df-b110abf0-4cba-4049-9ff4-247ebe9931e6\">\n",
              "      <button class=\"colab-df-quickchart\" onclick=\"quickchart('df-b110abf0-4cba-4049-9ff4-247ebe9931e6')\"\n",
              "                title=\"Suggest charts\"\n",
              "                style=\"display:none;\">\n",
              "\n",
              "<svg xmlns=\"http://www.w3.org/2000/svg\" height=\"24px\"viewBox=\"0 0 24 24\"\n",
              "     width=\"24px\">\n",
              "    <g>\n",
              "        <path d=\"M19 3H5c-1.1 0-2 .9-2 2v14c0 1.1.9 2 2 2h14c1.1 0 2-.9 2-2V5c0-1.1-.9-2-2-2zM9 17H7v-7h2v7zm4 0h-2V7h2v10zm4 0h-2v-4h2v4z\"/>\n",
              "    </g>\n",
              "</svg>\n",
              "      </button>\n",
              "\n",
              "<style>\n",
              "  .colab-df-quickchart {\n",
              "      --bg-color: #E8F0FE;\n",
              "      --fill-color: #1967D2;\n",
              "      --hover-bg-color: #E2EBFA;\n",
              "      --hover-fill-color: #174EA6;\n",
              "      --disabled-fill-color: #AAA;\n",
              "      --disabled-bg-color: #DDD;\n",
              "  }\n",
              "\n",
              "  [theme=dark] .colab-df-quickchart {\n",
              "      --bg-color: #3B4455;\n",
              "      --fill-color: #D2E3FC;\n",
              "      --hover-bg-color: #434B5C;\n",
              "      --hover-fill-color: #FFFFFF;\n",
              "      --disabled-bg-color: #3B4455;\n",
              "      --disabled-fill-color: #666;\n",
              "  }\n",
              "\n",
              "  .colab-df-quickchart {\n",
              "    background-color: var(--bg-color);\n",
              "    border: none;\n",
              "    border-radius: 50%;\n",
              "    cursor: pointer;\n",
              "    display: none;\n",
              "    fill: var(--fill-color);\n",
              "    height: 32px;\n",
              "    padding: 0;\n",
              "    width: 32px;\n",
              "  }\n",
              "\n",
              "  .colab-df-quickchart:hover {\n",
              "    background-color: var(--hover-bg-color);\n",
              "    box-shadow: 0 1px 2px rgba(60, 64, 67, 0.3), 0 1px 3px 1px rgba(60, 64, 67, 0.15);\n",
              "    fill: var(--button-hover-fill-color);\n",
              "  }\n",
              "\n",
              "  .colab-df-quickchart-complete:disabled,\n",
              "  .colab-df-quickchart-complete:disabled:hover {\n",
              "    background-color: var(--disabled-bg-color);\n",
              "    fill: var(--disabled-fill-color);\n",
              "    box-shadow: none;\n",
              "  }\n",
              "\n",
              "  .colab-df-spinner {\n",
              "    border: 2px solid var(--fill-color);\n",
              "    border-color: transparent;\n",
              "    border-bottom-color: var(--fill-color);\n",
              "    animation:\n",
              "      spin 1s steps(1) infinite;\n",
              "  }\n",
              "\n",
              "  @keyframes spin {\n",
              "    0% {\n",
              "      border-color: transparent;\n",
              "      border-bottom-color: var(--fill-color);\n",
              "      border-left-color: var(--fill-color);\n",
              "    }\n",
              "    20% {\n",
              "      border-color: transparent;\n",
              "      border-left-color: var(--fill-color);\n",
              "      border-top-color: var(--fill-color);\n",
              "    }\n",
              "    30% {\n",
              "      border-color: transparent;\n",
              "      border-left-color: var(--fill-color);\n",
              "      border-top-color: var(--fill-color);\n",
              "      border-right-color: var(--fill-color);\n",
              "    }\n",
              "    40% {\n",
              "      border-color: transparent;\n",
              "      border-right-color: var(--fill-color);\n",
              "      border-top-color: var(--fill-color);\n",
              "    }\n",
              "    60% {\n",
              "      border-color: transparent;\n",
              "      border-right-color: var(--fill-color);\n",
              "    }\n",
              "    80% {\n",
              "      border-color: transparent;\n",
              "      border-right-color: var(--fill-color);\n",
              "      border-bottom-color: var(--fill-color);\n",
              "    }\n",
              "    90% {\n",
              "      border-color: transparent;\n",
              "      border-bottom-color: var(--fill-color);\n",
              "    }\n",
              "  }\n",
              "</style>\n",
              "\n",
              "      <script>\n",
              "        async function quickchart(key) {\n",
              "          const quickchartButtonEl =\n",
              "            document.querySelector('#' + key + ' button');\n",
              "          quickchartButtonEl.disabled = true;  // To prevent multiple clicks.\n",
              "          quickchartButtonEl.classList.add('colab-df-spinner');\n",
              "          try {\n",
              "            const charts = await google.colab.kernel.invokeFunction(\n",
              "                'suggestCharts', [key], {});\n",
              "          } catch (error) {\n",
              "            console.error('Error during call to suggestCharts:', error);\n",
              "          }\n",
              "          quickchartButtonEl.classList.remove('colab-df-spinner');\n",
              "          quickchartButtonEl.classList.add('colab-df-quickchart-complete');\n",
              "        }\n",
              "        (() => {\n",
              "          let quickchartButtonEl =\n",
              "            document.querySelector('#df-b110abf0-4cba-4049-9ff4-247ebe9931e6 button');\n",
              "          quickchartButtonEl.style.display =\n",
              "            google.colab.kernel.accessAllowed ? 'block' : 'none';\n",
              "        })();\n",
              "      </script>\n",
              "    </div>\n",
              "\n",
              "  <div id=\"id_12ba6e39-3cf5-4ef8-8cea-192cb6399f2d\">\n",
              "    <style>\n",
              "      .colab-df-generate {\n",
              "        background-color: #E8F0FE;\n",
              "        border: none;\n",
              "        border-radius: 50%;\n",
              "        cursor: pointer;\n",
              "        display: none;\n",
              "        fill: #1967D2;\n",
              "        height: 32px;\n",
              "        padding: 0 0 0 0;\n",
              "        width: 32px;\n",
              "      }\n",
              "\n",
              "      .colab-df-generate:hover {\n",
              "        background-color: #E2EBFA;\n",
              "        box-shadow: 0px 1px 2px rgba(60, 64, 67, 0.3), 0px 1px 3px 1px rgba(60, 64, 67, 0.15);\n",
              "        fill: #174EA6;\n",
              "      }\n",
              "\n",
              "      [theme=dark] .colab-df-generate {\n",
              "        background-color: #3B4455;\n",
              "        fill: #D2E3FC;\n",
              "      }\n",
              "\n",
              "      [theme=dark] .colab-df-generate:hover {\n",
              "        background-color: #434B5C;\n",
              "        box-shadow: 0px 1px 3px 1px rgba(0, 0, 0, 0.15);\n",
              "        filter: drop-shadow(0px 1px 2px rgba(0, 0, 0, 0.3));\n",
              "        fill: #FFFFFF;\n",
              "      }\n",
              "    </style>\n",
              "    <button class=\"colab-df-generate\" onclick=\"generateWithVariable('df')\"\n",
              "            title=\"Generate code using this dataframe.\"\n",
              "            style=\"display:none;\">\n",
              "\n",
              "  <svg xmlns=\"http://www.w3.org/2000/svg\" height=\"24px\"viewBox=\"0 0 24 24\"\n",
              "       width=\"24px\">\n",
              "    <path d=\"M7,19H8.4L18.45,9,17,7.55,7,17.6ZM5,21V16.75L18.45,3.32a2,2,0,0,1,2.83,0l1.4,1.43a1.91,1.91,0,0,1,.58,1.4,1.91,1.91,0,0,1-.58,1.4L9.25,21ZM18.45,9,17,7.55Zm-12,3A5.31,5.31,0,0,0,4.9,8.1,5.31,5.31,0,0,0,1,6.5,5.31,5.31,0,0,0,4.9,4.9,5.31,5.31,0,0,0,6.5,1,5.31,5.31,0,0,0,8.1,4.9,5.31,5.31,0,0,0,12,6.5,5.46,5.46,0,0,0,6.5,12Z\"/>\n",
              "  </svg>\n",
              "    </button>\n",
              "    <script>\n",
              "      (() => {\n",
              "      const buttonEl =\n",
              "        document.querySelector('#id_12ba6e39-3cf5-4ef8-8cea-192cb6399f2d button.colab-df-generate');\n",
              "      buttonEl.style.display =\n",
              "        google.colab.kernel.accessAllowed ? 'block' : 'none';\n",
              "\n",
              "      buttonEl.onclick = () => {\n",
              "        google.colab.notebook.generateWithVariable('df');\n",
              "      }\n",
              "      })();\n",
              "    </script>\n",
              "  </div>\n",
              "\n",
              "    </div>\n",
              "  </div>\n"
            ],
            "application/vnd.google.colaboratory.intrinsic+json": {
              "type": "dataframe",
              "variable_name": "df",
              "summary": "{\n  \"name\": \"df\",\n  \"rows\": 2789,\n  \"fields\": [\n    {\n      \"column\": \"Open\",\n      \"properties\": {\n        \"dtype\": \"number\",\n        \"std\": 41015062.86392458,\n        \"min\": 3665695.0,\n        \"max\": 166325088.0,\n        \"num_unique_values\": 2787,\n        \"samples\": [\n          34519536.0,\n          158889440.0,\n          54964436.0\n        ],\n        \"semantic_type\": \"\",\n        \"description\": \"\"\n      }\n    },\n    {\n      \"column\": \"High\",\n      \"properties\": {\n        \"dtype\": \"number\",\n        \"std\": 41719853.93354931,\n        \"min\": 3709986.75,\n        \"max\": 170654416.0,\n        \"num_unique_values\": 2788,\n        \"samples\": [\n          34712396.0,\n          160343312.0,\n          56202344.0\n        ],\n        \"semantic_type\": \"\",\n        \"description\": \"\"\n      }\n    },\n    {\n      \"column\": \"Low\",\n      \"properties\": {\n        \"dtype\": \"number\",\n        \"std\": 40328907.293089055,\n        \"min\": 3614756.75,\n        \"max\": 164374464.0,\n        \"num_unique_values\": 2787,\n        \"samples\": [\n          33057068.0,\n          158380128.0,\n          51356056.0\n        ],\n        \"semantic_type\": \"\",\n        \"description\": \"\"\n      }\n    },\n    {\n      \"column\": \"Close\",\n      \"properties\": {\n        \"dtype\": \"number\",\n        \"std\": 41074646.37838916,\n        \"min\": 3664754.5,\n        \"max\": 170190976.0,\n        \"num_unique_values\": 2786,\n        \"samples\": [\n          34520216.0,\n          159327376.0,\n          52293708.0\n        ],\n        \"semantic_type\": \"\",\n        \"description\": \"\"\n      }\n    },\n    {\n      \"column\": \"Volume\",\n      \"properties\": {\n        \"dtype\": \"number\",\n        \"std\": 26933737639422,\n        \"min\": 3300823448060,\n        \"max\": 394793308331130,\n        \"num_unique_values\": 2787,\n        \"samples\": [\n          19341356493462,\n          49544824103639,\n          44230523372262\n        ],\n        \"semantic_type\": \"\",\n        \"description\": \"\"\n      }\n    },\n    {\n      \"column\": \"Adj Close\",\n      \"properties\": {\n        \"dtype\": \"number\",\n        \"std\": 41074646.37838916,\n        \"min\": 3664754.5,\n        \"max\": 170190976.0,\n        \"num_unique_values\": 2786,\n        \"samples\": [\n          34520216.0,\n          159327376.0,\n          52293708.0\n        ],\n        \"semantic_type\": \"\",\n        \"description\": \"\"\n      }\n    }\n  ]\n}"
            }
          },
          "metadata": {},
          "execution_count": 71
        }
      ],
      "source": [
        "## 비트코인 데이터\n",
        "df"
      ]
    },
    {
      "cell_type": "markdown",
      "metadata": {
        "id": "SjnzexnWyMIz"
      },
      "source": [
        "## 1-2. 데이터 전처리"
      ]
    },
    {
      "cell_type": "code",
      "execution_count": null,
      "metadata": {
        "id": "dNxVrr_1yKGL"
      },
      "outputs": [],
      "source": [
        "# 6개의 열 학습\n",
        "# 데이터 전처리\n",
        "scaler = MinMaxScaler()\n",
        "scaled_data = scaler.fit_transform(df.iloc[:,3:4]) # minmaxScaler는 스케일을 조정하는 정규화 함수로, 모든 데이터가 0과 1사이의 값을 갖도록 해주는 함수이다\n",
        "                          # 따라서 최댓값은 1로, 최솟값은 0으로 데이터의 범위를 조정해준다. 객체생성함"
      ]
    },
    {
      "cell_type": "code",
      "source": [
        "scaled_data.shape # (2, 6)"
      ],
      "metadata": {
        "colab": {
          "base_uri": "https://localhost:8080/"
        },
        "id": "5qrlVtkHg8bb",
        "outputId": "57daf544-4391-4cf8-a588-28df4d4733a6"
      },
      "execution_count": null,
      "outputs": [
        {
          "output_type": "execute_result",
          "data": {
            "text/plain": [
              "(2789, 1)"
            ]
          },
          "metadata": {},
          "execution_count": 89
        }
      ]
    },
    {
      "cell_type": "code",
      "execution_count": null,
      "metadata": {
        "id": "yAYaiKWww_7Q"
      },
      "outputs": [],
      "source": [
        "# train, test 데이터 생성\n",
        "\n",
        "train_size = int(len(scaled_data) * 0.7)   ## 전체 데이터셋 중 70%를 학습 데이터셋으로, 20%를 테스트 데이터셋(검증용) 으로 사용하기 위해서 0.8을 곱했다\n",
        "                                          # 모델 학습 시 과적합을 방지하고 일반화 성능을 높이기 위해 사용된다\n",
        "train_data = scaled_data[:train_size] # 1789\n",
        "test_data = scaled_data[train_size:] # 768\n",
        "\n",
        "def create_dataset(data, look_back): #look_back은 몇 개의 과거 데이터를 사용할 것인지를 표현하는 것이다(기본값이 60이다)\n",
        "    x, y = [], []        #  for문에서 얻은 모든 입력 데이터(x)와 출력 데이터(y)를 리스트에 추가한다\n",
        "    for i in range(len(data)-look_back):  # train : 1759까지 , test: 738까지\n",
        "        x.append(data[i:(i+look_back), :])   # i부터 (i+look_back)까지의 데이터를 하나의 입력 데이터 x 로 표현한다, 종가와 저가사용\n",
        "        y.append([data[i+look_back, :]])       # i+look_back의 데이터를 출력 데이터 y 로 표현한다.\n",
        "    return np.array(x), np.array(y)         # 리스트를 numpy 배열로 변환하여 반환\n",
        "\n",
        "# create_dataset()는 시계열 데이터를 RNN 모델에 입력으로 사용하기 위해 입력 데이터와 출력 데이터로 분리하는 함수이다.\n",
        "\n",
        "look_back = 60\n",
        "x_train, y_train = create_dataset(train_data, look_back)\n",
        "x_test, y_test = create_dataset(test_data, look_back)"
      ]
    },
    {
      "cell_type": "code",
      "source": [
        "x_train.shape, y_train.shape, x_test.shape, y_test.shape\n",
        "# x_train.shpae : (샘플수, look_back, 특성개수)\n",
        "# y_train.shape : (샘플수, 예측 한날의 정답, 특성개수)\n",
        "# x_test.shape :  (샘플수 , look_back, 특성개수)\n",
        "# y_test.shape :  (샘플수, 예측 한날의 정답, 특성개수)"
      ],
      "metadata": {
        "colab": {
          "base_uri": "https://localhost:8080/"
        },
        "id": "1CMgeKOCWMdc",
        "outputId": "2d5903d3-22a0-4b4b-f0c9-c9fbad1292d6"
      },
      "execution_count": null,
      "outputs": [
        {
          "output_type": "execute_result",
          "data": {
            "text/plain": [
              "((1892, 60, 1), (1892, 1, 1), (777, 60, 1), (777, 1, 1))"
            ]
          },
          "metadata": {},
          "execution_count": 17
        }
      ]
    },
    {
      "cell_type": "markdown",
      "metadata": {
        "id": "7ewKLtyIyQxZ"
      },
      "source": [
        "## 1-3. GRU 모델 생성"
      ]
    },
    {
      "cell_type": "code",
      "execution_count": null,
      "metadata": {
        "id": "q2HY-Eyqw8ZV",
        "colab": {
          "base_uri": "https://localhost:8080/"
        },
        "outputId": "98f58f89-30d0-4008-9e70-03226f7ef5e2"
      },
      "outputs": [
        {
          "output_type": "stream",
          "name": "stderr",
          "text": [
            "/usr/local/lib/python3.12/dist-packages/keras/src/layers/rnn/rnn.py:199: UserWarning: Do not pass an `input_shape`/`input_dim` argument to a layer. When using Sequential models, prefer using an `Input(shape)` object as the first layer in the model instead.\n",
            "  super().__init__(**kwargs)\n"
          ]
        }
      ],
      "source": [
        "# 모델 생성\n",
        "es = EarlyStopping(monitor= 'val_loss', mode='min', verbose=1, patience=10)\n",
        "  # 검증손실이 10번연속 줄지않으면 학습중단 , verbose=1 :자세히출력, 0;출력x , 2:함축적인정보만 출력\n",
        "\n",
        "mc= ModelCheckpoint('best_model.h5', monitor='val_loss', mode='min', verbose=1,save_best_only=True)\n",
        "  # 검증손실이 가장 작을때의 모델만 저장\n",
        "model = Sequential()   # 모델의 객체생성\n",
        "model.add(GRU(150, input_shape=(look_back, 1)))   #  50=레이어의 출력 차원, input_shape=입력 데이터의 형태를 정의를 의미한다.\n",
        "                                                  # lock_back=이전 데이터의 갯수만큼 비트코인 가격을 입력으로 받아들이고, 각각의 데이터가 1차원인 것을 의미합니다.\n",
        "model.add(Dropout(0.2))\n",
        "model.add(Dense(1))   # Dense 는 완전 연결 레이어(층)를 의미한다. 1은 출력의 차원을 의미\n",
        "\n",
        "model.compile(loss='mean_squared_error', optimizer='adam', metrics=['mse', 'mae'] )  # compile() 함수를 이용하여 모델을 컴파일합니다\n",
        "                                                             # loss는 손실 함수를 의미한다.\n",
        "                                                             # mean_squared_error(MSE) 는 전체 에러를 표현하기 위해서 사용하는 식이고 오차의 제곱에 대해 평균을 취한 것이다.(수치가 작을 수록 원본과의 오차가 적은 것이다)\n",
        "                                                             # optimizer는  최적화 알고리즘을 정의하는 부분이다. adam(아담) 은 모멘텀+ AdaGrad(아다그라드) 을 합친 것이다\n",
        "\n",
        "# 완전 연결 레이어 : 한 레이어의 모든 뉴런이 그 다음 레이어의 모든 뉴런과 연결된 상태이다.\n",
        "# 모멘텀 : 기울기 방향으로 힘을 받아 물체가 가속된다는 물리법칙을 적용한것이다.\n",
        "# AdaGrad : 학습을 진행하면서 학습률을 점차 줄여가는 방법이다."
      ]
    },
    {
      "cell_type": "markdown",
      "metadata": {
        "id": "l7U6MvGCyU7V"
      },
      "source": [
        "## 1-4. GRU 모델 학습"
      ]
    },
    {
      "cell_type": "code",
      "execution_count": null,
      "metadata": {
        "colab": {
          "base_uri": "https://localhost:8080/"
        },
        "id": "Bfe65bVbyWUN",
        "outputId": "e0fd2fec-c89c-4452-b557-e835b8447fd4"
      },
      "outputs": [
        {
          "output_type": "stream",
          "name": "stdout",
          "text": [
            "Epoch 1/100\n",
            "\n",
            "Epoch 1: val_loss improved from inf to 0.00127, saving model to best_model.h5\n"
          ]
        },
        {
          "output_type": "stream",
          "name": "stderr",
          "text": [
            "WARNING:absl:You are saving your model as an HDF5 file via `model.save()` or `keras.saving.save_model(model)`. This file format is considered legacy. We recommend using instead the native Keras format, e.g. `model.save('my_model.keras')` or `keras.saving.save_model(model, 'my_model.keras')`. \n"
          ]
        },
        {
          "output_type": "stream",
          "name": "stdout",
          "text": [
            "60/60 - 8s - 131ms/step - loss: 0.0028 - mae: 0.0309 - mse: 0.0028 - val_loss: 0.0013 - val_mae: 0.0289 - val_mse: 0.0013\n",
            "Epoch 2/100\n",
            "\n",
            "Epoch 2: val_loss improved from 0.00127 to 0.00057, saving model to best_model.h5\n"
          ]
        },
        {
          "output_type": "stream",
          "name": "stderr",
          "text": [
            "WARNING:absl:You are saving your model as an HDF5 file via `model.save()` or `keras.saving.save_model(model)`. This file format is considered legacy. We recommend using instead the native Keras format, e.g. `model.save('my_model.keras')` or `keras.saving.save_model(model, 'my_model.keras')`. \n"
          ]
        },
        {
          "output_type": "stream",
          "name": "stdout",
          "text": [
            "60/60 - 9s - 151ms/step - loss: 2.2178e-04 - mae: 0.0094 - mse: 2.2178e-04 - val_loss: 5.6564e-04 - val_mae: 0.0172 - val_mse: 5.6564e-04\n",
            "Epoch 3/100\n",
            "\n",
            "Epoch 3: val_loss did not improve from 0.00057\n",
            "60/60 - 7s - 109ms/step - loss: 1.9631e-04 - mae: 0.0089 - mse: 1.9631e-04 - val_loss: 6.5446e-04 - val_mae: 0.0192 - val_mse: 6.5446e-04\n",
            "Epoch 4/100\n",
            "\n",
            "Epoch 4: val_loss improved from 0.00057 to 0.00036, saving model to best_model.h5\n"
          ]
        },
        {
          "output_type": "stream",
          "name": "stderr",
          "text": [
            "WARNING:absl:You are saving your model as an HDF5 file via `model.save()` or `keras.saving.save_model(model)`. This file format is considered legacy. We recommend using instead the native Keras format, e.g. `model.save('my_model.keras')` or `keras.saving.save_model(model, 'my_model.keras')`. \n"
          ]
        },
        {
          "output_type": "stream",
          "name": "stdout",
          "text": [
            "60/60 - 5s - 78ms/step - loss: 1.8133e-04 - mae: 0.0087 - mse: 1.8133e-04 - val_loss: 3.6412e-04 - val_mae: 0.0132 - val_mse: 3.6412e-04\n",
            "Epoch 5/100\n",
            "\n",
            "Epoch 5: val_loss improved from 0.00036 to 0.00035, saving model to best_model.h5\n"
          ]
        },
        {
          "output_type": "stream",
          "name": "stderr",
          "text": [
            "WARNING:absl:You are saving your model as an HDF5 file via `model.save()` or `keras.saving.save_model(model)`. This file format is considered legacy. We recommend using instead the native Keras format, e.g. `model.save('my_model.keras')` or `keras.saving.save_model(model, 'my_model.keras')`. \n"
          ]
        },
        {
          "output_type": "stream",
          "name": "stdout",
          "text": [
            "60/60 - 7s - 109ms/step - loss: 1.8073e-04 - mae: 0.0085 - mse: 1.8073e-04 - val_loss: 3.5236e-04 - val_mae: 0.0130 - val_mse: 3.5236e-04\n",
            "Epoch 6/100\n",
            "\n",
            "Epoch 6: val_loss did not improve from 0.00035\n",
            "60/60 - 9s - 144ms/step - loss: 1.8675e-04 - mae: 0.0089 - mse: 1.8675e-04 - val_loss: 4.9765e-04 - val_mae: 0.0173 - val_mse: 4.9765e-04\n",
            "Epoch 7/100\n",
            "\n",
            "Epoch 7: val_loss did not improve from 0.00035\n",
            "60/60 - 6s - 106ms/step - loss: 1.8375e-04 - mae: 0.0089 - mse: 1.8375e-04 - val_loss: 3.5457e-04 - val_mae: 0.0131 - val_mse: 3.5457e-04\n",
            "Epoch 8/100\n",
            "\n",
            "Epoch 8: val_loss did not improve from 0.00035\n",
            "60/60 - 10s - 173ms/step - loss: 1.5280e-04 - mae: 0.0080 - mse: 1.5280e-04 - val_loss: 4.0451e-04 - val_mae: 0.0153 - val_mse: 4.0451e-04\n",
            "Epoch 9/100\n",
            "\n",
            "Epoch 9: val_loss improved from 0.00035 to 0.00031, saving model to best_model.h5\n"
          ]
        },
        {
          "output_type": "stream",
          "name": "stderr",
          "text": [
            "WARNING:absl:You are saving your model as an HDF5 file via `model.save()` or `keras.saving.save_model(model)`. This file format is considered legacy. We recommend using instead the native Keras format, e.g. `model.save('my_model.keras')` or `keras.saving.save_model(model, 'my_model.keras')`. \n"
          ]
        },
        {
          "output_type": "stream",
          "name": "stdout",
          "text": [
            "60/60 - 10s - 159ms/step - loss: 1.7521e-04 - mae: 0.0089 - mse: 1.7521e-04 - val_loss: 3.1414e-04 - val_mae: 0.0124 - val_mse: 3.1414e-04\n",
            "Epoch 10/100\n",
            "\n",
            "Epoch 10: val_loss did not improve from 0.00031\n",
            "60/60 - 10s - 159ms/step - loss: 1.5378e-04 - mae: 0.0079 - mse: 1.5378e-04 - val_loss: 3.2514e-04 - val_mae: 0.0126 - val_mse: 3.2514e-04\n",
            "Epoch 11/100\n",
            "\n",
            "Epoch 11: val_loss improved from 0.00031 to 0.00031, saving model to best_model.h5\n"
          ]
        },
        {
          "output_type": "stream",
          "name": "stderr",
          "text": [
            "WARNING:absl:You are saving your model as an HDF5 file via `model.save()` or `keras.saving.save_model(model)`. This file format is considered legacy. We recommend using instead the native Keras format, e.g. `model.save('my_model.keras')` or `keras.saving.save_model(model, 'my_model.keras')`. \n"
          ]
        },
        {
          "output_type": "stream",
          "name": "stdout",
          "text": [
            "60/60 - 6s - 101ms/step - loss: 1.3493e-04 - mae: 0.0076 - mse: 1.3493e-04 - val_loss: 3.0548e-04 - val_mae: 0.0124 - val_mse: 3.0548e-04\n",
            "Epoch 12/100\n",
            "\n",
            "Epoch 12: val_loss did not improve from 0.00031\n",
            "60/60 - 10s - 161ms/step - loss: 1.4782e-04 - mae: 0.0079 - mse: 1.4782e-04 - val_loss: 8.3499e-04 - val_mae: 0.0226 - val_mse: 8.3499e-04\n",
            "Epoch 13/100\n",
            "\n",
            "Epoch 13: val_loss improved from 0.00031 to 0.00030, saving model to best_model.h5\n"
          ]
        },
        {
          "output_type": "stream",
          "name": "stderr",
          "text": [
            "WARNING:absl:You are saving your model as an HDF5 file via `model.save()` or `keras.saving.save_model(model)`. This file format is considered legacy. We recommend using instead the native Keras format, e.g. `model.save('my_model.keras')` or `keras.saving.save_model(model, 'my_model.keras')`. \n"
          ]
        },
        {
          "output_type": "stream",
          "name": "stdout",
          "text": [
            "60/60 - 5s - 84ms/step - loss: 1.3286e-04 - mae: 0.0075 - mse: 1.3286e-04 - val_loss: 2.9582e-04 - val_mae: 0.0119 - val_mse: 2.9582e-04\n",
            "Epoch 14/100\n",
            "\n",
            "Epoch 14: val_loss improved from 0.00030 to 0.00029, saving model to best_model.h5\n"
          ]
        },
        {
          "output_type": "stream",
          "name": "stderr",
          "text": [
            "WARNING:absl:You are saving your model as an HDF5 file via `model.save()` or `keras.saving.save_model(model)`. This file format is considered legacy. We recommend using instead the native Keras format, e.g. `model.save('my_model.keras')` or `keras.saving.save_model(model, 'my_model.keras')`. \n"
          ]
        },
        {
          "output_type": "stream",
          "name": "stdout",
          "text": [
            "60/60 - 5s - 80ms/step - loss: 1.4411e-04 - mae: 0.0076 - mse: 1.4411e-04 - val_loss: 2.9467e-04 - val_mae: 0.0124 - val_mse: 2.9467e-04\n",
            "Epoch 15/100\n",
            "\n",
            "Epoch 15: val_loss did not improve from 0.00029\n",
            "60/60 - 6s - 106ms/step - loss: 1.2221e-04 - mae: 0.0072 - mse: 1.2221e-04 - val_loss: 4.6702e-04 - val_mae: 0.0158 - val_mse: 4.6702e-04\n",
            "Epoch 16/100\n",
            "\n",
            "Epoch 16: val_loss did not improve from 0.00029\n",
            "60/60 - 5s - 77ms/step - loss: 1.2848e-04 - mae: 0.0074 - mse: 1.2848e-04 - val_loss: 6.0021e-04 - val_mae: 0.0192 - val_mse: 6.0021e-04\n",
            "Epoch 17/100\n",
            "\n",
            "Epoch 17: val_loss did not improve from 0.00029\n",
            "60/60 - 7s - 110ms/step - loss: 1.6016e-04 - mae: 0.0086 - mse: 1.6016e-04 - val_loss: 3.2079e-04 - val_mae: 0.0128 - val_mse: 3.2079e-04\n",
            "Epoch 18/100\n",
            "\n",
            "Epoch 18: val_loss did not improve from 0.00029\n",
            "60/60 - 9s - 146ms/step - loss: 1.2023e-04 - mae: 0.0072 - mse: 1.2023e-04 - val_loss: 6.1062e-04 - val_mae: 0.0186 - val_mse: 6.1062e-04\n",
            "Epoch 19/100\n",
            "\n",
            "Epoch 19: val_loss did not improve from 0.00029\n",
            "60/60 - 6s - 99ms/step - loss: 1.2118e-04 - mae: 0.0069 - mse: 1.2118e-04 - val_loss: 8.7100e-04 - val_mae: 0.0240 - val_mse: 8.7100e-04\n",
            "Epoch 20/100\n",
            "\n",
            "Epoch 20: val_loss improved from 0.00029 to 0.00026, saving model to best_model.h5\n"
          ]
        },
        {
          "output_type": "stream",
          "name": "stderr",
          "text": [
            "WARNING:absl:You are saving your model as an HDF5 file via `model.save()` or `keras.saving.save_model(model)`. This file format is considered legacy. We recommend using instead the native Keras format, e.g. `model.save('my_model.keras')` or `keras.saving.save_model(model, 'my_model.keras')`. \n"
          ]
        },
        {
          "output_type": "stream",
          "name": "stdout",
          "text": [
            "60/60 - 10s - 172ms/step - loss: 1.3962e-04 - mae: 0.0077 - mse: 1.3962e-04 - val_loss: 2.6423e-04 - val_mae: 0.0115 - val_mse: 2.6423e-04\n",
            "Epoch 21/100\n",
            "\n",
            "Epoch 21: val_loss did not improve from 0.00026\n",
            "60/60 - 9s - 149ms/step - loss: 1.2214e-04 - mae: 0.0073 - mse: 1.2214e-04 - val_loss: 8.3201e-04 - val_mae: 0.0225 - val_mse: 8.3201e-04\n",
            "Epoch 22/100\n",
            "\n",
            "Epoch 22: val_loss did not improve from 0.00026\n",
            "60/60 - 6s - 99ms/step - loss: 1.2643e-04 - mae: 0.0073 - mse: 1.2643e-04 - val_loss: 3.8533e-04 - val_mae: 0.0140 - val_mse: 3.8533e-04\n",
            "Epoch 23/100\n",
            "\n",
            "Epoch 23: val_loss did not improve from 0.00026\n",
            "60/60 - 11s - 178ms/step - loss: 1.1759e-04 - mae: 0.0070 - mse: 1.1759e-04 - val_loss: 4.4531e-04 - val_mae: 0.0152 - val_mse: 4.4531e-04\n",
            "Epoch 24/100\n",
            "\n",
            "Epoch 24: val_loss did not improve from 0.00026\n",
            "60/60 - 10s - 161ms/step - loss: 1.2768e-04 - mae: 0.0076 - mse: 1.2768e-04 - val_loss: 6.1338e-04 - val_mae: 0.0189 - val_mse: 6.1338e-04\n",
            "Epoch 25/100\n",
            "\n",
            "Epoch 25: val_loss did not improve from 0.00026\n",
            "60/60 - 9s - 158ms/step - loss: 1.1619e-04 - mae: 0.0071 - mse: 1.1619e-04 - val_loss: 3.7881e-04 - val_mae: 0.0139 - val_mse: 3.7881e-04\n",
            "Epoch 26/100\n",
            "\n",
            "Epoch 26: val_loss did not improve from 0.00026\n",
            "60/60 - 6s - 100ms/step - loss: 1.1749e-04 - mae: 0.0072 - mse: 1.1749e-04 - val_loss: 3.8373e-04 - val_mae: 0.0139 - val_mse: 3.8373e-04\n",
            "Epoch 27/100\n",
            "\n",
            "Epoch 27: val_loss did not improve from 0.00026\n",
            "60/60 - 5s - 78ms/step - loss: 1.0314e-04 - mae: 0.0067 - mse: 1.0314e-04 - val_loss: 6.8119e-04 - val_mae: 0.0198 - val_mse: 6.8119e-04\n",
            "Epoch 28/100\n",
            "\n",
            "Epoch 28: val_loss improved from 0.00026 to 0.00025, saving model to best_model.h5\n"
          ]
        },
        {
          "output_type": "stream",
          "name": "stderr",
          "text": [
            "WARNING:absl:You are saving your model as an HDF5 file via `model.save()` or `keras.saving.save_model(model)`. This file format is considered legacy. We recommend using instead the native Keras format, e.g. `model.save('my_model.keras')` or `keras.saving.save_model(model, 'my_model.keras')`. \n"
          ]
        },
        {
          "output_type": "stream",
          "name": "stdout",
          "text": [
            "60/60 - 6s - 106ms/step - loss: 1.1126e-04 - mae: 0.0067 - mse: 1.1126e-04 - val_loss: 2.5000e-04 - val_mae: 0.0109 - val_mse: 2.5000e-04\n",
            "Epoch 29/100\n",
            "\n",
            "Epoch 29: val_loss improved from 0.00025 to 0.00024, saving model to best_model.h5\n"
          ]
        },
        {
          "output_type": "stream",
          "name": "stderr",
          "text": [
            "WARNING:absl:You are saving your model as an HDF5 file via `model.save()` or `keras.saving.save_model(model)`. This file format is considered legacy. We recommend using instead the native Keras format, e.g. `model.save('my_model.keras')` or `keras.saving.save_model(model, 'my_model.keras')`. \n"
          ]
        },
        {
          "output_type": "stream",
          "name": "stdout",
          "text": [
            "60/60 - 9s - 143ms/step - loss: 1.1081e-04 - mae: 0.0066 - mse: 1.1081e-04 - val_loss: 2.4433e-04 - val_mae: 0.0109 - val_mse: 2.4433e-04\n",
            "Epoch 30/100\n",
            "\n",
            "Epoch 30: val_loss did not improve from 0.00024\n",
            "60/60 - 6s - 100ms/step - loss: 1.0750e-04 - mae: 0.0065 - mse: 1.0750e-04 - val_loss: 2.8690e-04 - val_mae: 0.0117 - val_mse: 2.8690e-04\n",
            "Epoch 31/100\n",
            "\n",
            "Epoch 31: val_loss did not improve from 0.00024\n",
            "60/60 - 10s - 173ms/step - loss: 9.4010e-05 - mae: 0.0061 - mse: 9.4010e-05 - val_loss: 4.1578e-04 - val_mae: 0.0152 - val_mse: 4.1578e-04\n",
            "Epoch 32/100\n",
            "\n",
            "Epoch 32: val_loss did not improve from 0.00024\n",
            "60/60 - 9s - 145ms/step - loss: 1.1203e-04 - mae: 0.0068 - mse: 1.1203e-04 - val_loss: 2.8849e-04 - val_mae: 0.0121 - val_mse: 2.8849e-04\n",
            "Epoch 33/100\n",
            "\n",
            "Epoch 33: val_loss did not improve from 0.00024\n",
            "60/60 - 7s - 109ms/step - loss: 1.1859e-04 - mae: 0.0073 - mse: 1.1859e-04 - val_loss: 3.5079e-04 - val_mae: 0.0133 - val_mse: 3.5079e-04\n",
            "Epoch 34/100\n",
            "\n",
            "Epoch 34: val_loss did not improve from 0.00024\n",
            "60/60 - 10s - 171ms/step - loss: 9.8204e-05 - mae: 0.0064 - mse: 9.8204e-05 - val_loss: 2.5736e-04 - val_mae: 0.0111 - val_mse: 2.5736e-04\n",
            "Epoch 35/100\n",
            "\n",
            "Epoch 35: val_loss did not improve from 0.00024\n",
            "60/60 - 9s - 147ms/step - loss: 1.0108e-04 - mae: 0.0065 - mse: 1.0108e-04 - val_loss: 3.7418e-04 - val_mae: 0.0141 - val_mse: 3.7418e-04\n",
            "Epoch 36/100\n",
            "\n",
            "Epoch 36: val_loss improved from 0.00024 to 0.00023, saving model to best_model.h5\n"
          ]
        },
        {
          "output_type": "stream",
          "name": "stderr",
          "text": [
            "WARNING:absl:You are saving your model as an HDF5 file via `model.save()` or `keras.saving.save_model(model)`. This file format is considered legacy. We recommend using instead the native Keras format, e.g. `model.save('my_model.keras')` or `keras.saving.save_model(model, 'my_model.keras')`. \n"
          ]
        },
        {
          "output_type": "stream",
          "name": "stdout",
          "text": [
            "60/60 - 6s - 102ms/step - loss: 9.3160e-05 - mae: 0.0061 - mse: 9.3160e-05 - val_loss: 2.3058e-04 - val_mae: 0.0105 - val_mse: 2.3058e-04\n",
            "Epoch 37/100\n",
            "\n",
            "Epoch 37: val_loss did not improve from 0.00023\n",
            "60/60 - 5s - 79ms/step - loss: 1.0380e-04 - mae: 0.0067 - mse: 1.0380e-04 - val_loss: 4.7533e-04 - val_mae: 0.0178 - val_mse: 4.7533e-04\n",
            "Epoch 38/100\n",
            "\n",
            "Epoch 38: val_loss did not improve from 0.00023\n",
            "60/60 - 6s - 106ms/step - loss: 1.0067e-04 - mae: 0.0065 - mse: 1.0067e-04 - val_loss: 3.3108e-04 - val_mae: 0.0127 - val_mse: 3.3108e-04\n",
            "Epoch 39/100\n",
            "\n",
            "Epoch 39: val_loss did not improve from 0.00023\n",
            "60/60 - 5s - 77ms/step - loss: 9.9420e-05 - mae: 0.0064 - mse: 9.9420e-05 - val_loss: 4.2149e-04 - val_mae: 0.0153 - val_mse: 4.2149e-04\n",
            "Epoch 40/100\n",
            "\n",
            "Epoch 40: val_loss did not improve from 0.00023\n",
            "60/60 - 5s - 88ms/step - loss: 9.9231e-05 - mae: 0.0065 - mse: 9.9231e-05 - val_loss: 3.8477e-04 - val_mae: 0.0140 - val_mse: 3.8477e-04\n",
            "Epoch 41/100\n",
            "\n",
            "Epoch 41: val_loss did not improve from 0.00023\n",
            "60/60 - 10s - 162ms/step - loss: 9.3487e-05 - mae: 0.0063 - mse: 9.3487e-05 - val_loss: 4.8467e-04 - val_mae: 0.0166 - val_mse: 4.8467e-04\n",
            "Epoch 42/100\n",
            "\n",
            "Epoch 42: val_loss did not improve from 0.00023\n",
            "60/60 - 6s - 99ms/step - loss: 9.0589e-05 - mae: 0.0063 - mse: 9.0589e-05 - val_loss: 2.6318e-04 - val_mae: 0.0113 - val_mse: 2.6318e-04\n",
            "Epoch 43/100\n",
            "\n",
            "Epoch 43: val_loss did not improve from 0.00023\n",
            "60/60 - 10s - 172ms/step - loss: 9.4621e-05 - mae: 0.0063 - mse: 9.4621e-05 - val_loss: 4.6389e-04 - val_mae: 0.0161 - val_mse: 4.6389e-04\n",
            "Epoch 44/100\n",
            "\n",
            "Epoch 44: val_loss did not improve from 0.00023\n",
            "60/60 - 9s - 147ms/step - loss: 1.0242e-04 - mae: 0.0067 - mse: 1.0242e-04 - val_loss: 3.4927e-04 - val_mae: 0.0133 - val_mse: 3.4927e-04\n",
            "Epoch 45/100\n",
            "\n",
            "Epoch 45: val_loss did not improve from 0.00023\n",
            "60/60 - 6s - 108ms/step - loss: 9.3351e-05 - mae: 0.0061 - mse: 9.3351e-05 - val_loss: 3.8153e-04 - val_mae: 0.0140 - val_mse: 3.8153e-04\n",
            "Epoch 46/100\n",
            "\n",
            "Epoch 46: val_loss did not improve from 0.00023\n",
            "60/60 - 11s - 175ms/step - loss: 9.8009e-05 - mae: 0.0063 - mse: 9.8009e-05 - val_loss: 4.2722e-04 - val_mae: 0.0150 - val_mse: 4.2722e-04\n",
            "Epoch 46: early stopping\n"
          ]
        },
        {
          "output_type": "execute_result",
          "data": {
            "text/plain": [
              "<keras.src.callbacks.history.History at 0x7ff4547219d0>"
            ]
          },
          "metadata": {},
          "execution_count": 23
        }
      ],
      "source": [
        "# 모델 학습\n",
        "model.fit(x_train, y_train, epochs=100, validation_data=(x_test, y_test),callbacks=[es,mc], batch_size=32, validation_split=0.1, verbose=2)\n",
        "\n",
        "# x_train : 학습데이터의 입력값   , y_train : 학습데이터의 출력값이다.\n",
        "\n",
        "# 에포크 : 훈련 데이터셋에 포함된 모든 데이터들이 한 번씩 모델을 통과한 횟수 또는 전체 학습 데이터셋에 대한 반복 횟수이다\n",
        "# 에포크가 높을수록 더 많은 반복 학습을 수행하게 되므로 모델이 더 많은 학습을 하게 되어 일반적으로 더 좋은 성능을 낼 수 있습니다\n",
        "\n",
        "# batch_size(배치크기) : 학습을 수행할 때, 몇 개의 데이터를 한 번에 처리할지를 지정한다, 일반적으로 32,64, 128 숫자를 사용한다\n",
        "\n",
        "# verbose : 학습 과정 중 출력되는 문구를 설정합니다. 0일 경우 출력하지 않으며, 1일 경우 학습 진행 상황을 출력하고, 2일 경우 학습 결과만 출력한다"
      ]
    },
    {
      "cell_type": "markdown",
      "metadata": {
        "id": "dPRvDyBKykyY"
      },
      "source": [
        "## 1-5. 예측"
      ]
    },
    {
      "cell_type": "code",
      "execution_count": null,
      "metadata": {
        "colab": {
          "base_uri": "https://localhost:8080/"
        },
        "id": "KxD_8ndWw58i",
        "outputId": "db9a447d-e41c-4dcd-b774-e88a4dc804c7"
      },
      "outputs": [
        {
          "output_type": "stream",
          "name": "stdout",
          "text": [
            "\u001b[1m60/60\u001b[0m \u001b[32m━━━━━━━━━━━━━━━━━━━━\u001b[0m\u001b[37m\u001b[0m \u001b[1m2s\u001b[0m 23ms/step\n",
            "\u001b[1m25/25\u001b[0m \u001b[32m━━━━━━━━━━━━━━━━━━━━\u001b[0m\u001b[37m\u001b[0m \u001b[1m1s\u001b[0m 20ms/step\n"
          ]
        }
      ],
      "source": [
        "# 예측\n",
        "train_predict = model.predict(x_train)  # (1759, 6)\n",
        "test_predict = model.predict(x_test) #  (738, 6)\n",
        "\n",
        "# model.predict(x_train) 은 학습된 모델을 이용하여 train 데이터에 대한 예측값을 계산한다\n",
        "# mode.predict(x_test) 은 학습된 모델을 이용하여 test 데이터에 대한 예측값을 계산한다.\n",
        "\n",
        "train_predict = scaler.inverse_transform(train_predict)\n",
        "y_train = scaler.inverse_transform(y_train.reshape(-1,1))\n",
        "test_predict = scaler.inverse_transform(test_predict)\n",
        "y_test = scaler.inverse_transform(y_test.reshape(-1,1))"
      ]
    },
    {
      "cell_type": "code",
      "source": [
        "train_predict.shape, y_train.shape, test_predict.shape, y_test.shape"
      ],
      "metadata": {
        "colab": {
          "base_uri": "https://localhost:8080/"
        },
        "id": "uDWw8gNZlymR",
        "outputId": "490d9967-df32-4bdf-bcc6-91af2b188df8"
      },
      "execution_count": null,
      "outputs": [
        {
          "output_type": "execute_result",
          "data": {
            "text/plain": [
              "((1892, 1), (1892, 1), (777, 1), (777, 1))"
            ]
          },
          "metadata": {},
          "execution_count": 115
        }
      ]
    },
    {
      "cell_type": "markdown",
      "metadata": {
        "id": "3VZ6cZH9y6xI"
      },
      "source": [
        "## 1-6. 모델 시각화\n",
        "### https://wikidocs.net/92088"
      ]
    },
    {
      "cell_type": "code",
      "source": [
        "import datetime\n",
        "import matplotlib.pyplot as plt\n",
        "import matplotlib.ticker as mticker\n",
        "\n",
        "# train 데이터 예측 결과 시각화\n",
        "plt.figure(figsize=(10, 5))\n",
        "\n",
        "# y_train의 X축 데이터는 train_data 범위 내에서 look_back을 제외한 기간\n",
        "plt.plot(df[look_back : len(train_data)].index, y_train, label='Actual Train Price')  # len(train_data) : 1789 , len(y_train): 1759\n",
        "plt.plot(df[look_back : len(train_data)].index, train_predict, label='Predicted Train Price')  # len(train_predict) : 1759\n",
        "\n",
        "# y_test의 X축 데이터는 test_data 범위 내에서 look_back을 제외한 기간\n",
        "plt.plot(df[len(train_data) + look_back : len(df)].index, y_test, label='Actual Test Price') # len(df) : 2557\n",
        "plt.plot(df[len(train_data) + look_back : len(df)].index, test_predict, label='Predicted Test Price')\n",
        "\n",
        "# 2021년 5월 13일에 빨간색 세로축을 추가합니다.\n",
        "target_date = datetime.datetime(2021, 5, 13)\n",
        "plt.axvline(x=target_date, color='red', linestyle='--')\n",
        "\n",
        "# 2022년 2월 24일에 빨간색 세로축을 추가합니다.\n",
        "tar_date = datetime.datetime(2022, 2, 24)\n",
        "plt.axvline(x=tar_date, color='red', linestyle='--')\n",
        "plt.gca().yaxis.set_major_formatter(mticker.FuncFormatter(lambda x, _: f'{round(int(x)/1400,1):,}$')) # y축 달러로 설정\n",
        "plt.grid(True, axis='y') # 그리드 설정\n",
        "\n",
        "# 범례를 표시하여 각 선이 무엇을 의미하는지 보여줍니다.\n",
        "plt.legend()\n",
        "plt.title(\"GRU prediction model\")\n",
        "plt.xlabel('Date')\n",
        "plt.ylabel('Price')\n",
        "plt.legend()\n",
        "plt.show()"
      ],
      "metadata": {
        "colab": {
          "base_uri": "https://localhost:8080/",
          "height": 487
        },
        "id": "3ESQGtfcyaEG",
        "outputId": "924b2863-23b9-45cd-f954-73de5691e17a"
      },
      "execution_count": null,
      "outputs": [
        {
          "output_type": "display_data",
          "data": {
            "text/plain": [
              "<Figure size 1000x500 with 1 Axes>"
            ],
            "image/png": "[encoded data removed]"
          },
          "metadata": {}
        }
      ]
    },
    {
      "cell_type": "code",
      "source": [
        "# 모델 정확도 판별\n",
        "from sklearn.metrics import mean_squared_error\n",
        "from sklearn.metrics import r2_score\n",
        "from sklearn.metrics import mean_squared_error\n",
        "from sklearn.metrics import mean_absolute_error\n",
        "\n",
        "mae_train= mean_absolute_error(y_train, train_predict)\n",
        "mae_test= mean_absolute_error(y_test, test_predict)\n",
        "\n",
        "mse_train= mean_squared_error(y_train, train_predict)\n",
        "mse_test= mean_squared_error(y_test, test_predict)\n",
        "\n",
        "rmse_train = np.sqrt(mse_train)\n",
        "rmse_test = np.sqrt(mse_test)\n",
        "\n",
        "train_r2_score = r2_score(y_train, train_predict)\n",
        "test_r2_score = r2_score(y_test, test_predict)\n",
        "\n",
        "print(f\"mae_train Score: {mae_train:.3f}\")\n",
        "print(f\"mae_test Score: {mae_test:.3f}\")\n",
        "\n",
        "print(f\"mse_train Score: {mse_train:.3f}\")\n",
        "print(f\"mse_test Score: {mse_test:.3f}\")\n",
        "\n",
        "print(f\"rmse_train Score: {rmse_train:.3f}\")\n",
        "print(f\"rmse_testScore: {rmse_test:.3f}\")\n",
        "\n",
        "print(f\"Train R2 Score: {train_r2_score:.3f}\")\n",
        "print(f\"Test R2 Score: {test_r2_score:.3f}\")\n",
        "\n",
        "# Train R2 Score: 0.997\n",
        "# Test R2 Score: 0.990"
      ],
      "metadata": {
        "colab": {
          "base_uri": "https://localhost:8080/"
        },
        "id": "b73XcmDP9nuj",
        "outputId": "3f56105d-ae18-4586-8543-5d3c1fb845c4"
      },
      "execution_count": null,
      "outputs": [
        {
          "output_type": "stream",
          "name": "stdout",
          "text": [
            "mae_train Score: 831987.293\n",
            "mae_test Score: 2131114.687\n",
            "mse_train Score: 1892168201861.869\n",
            "mse_test Score: 7965292134367.550\n",
            "rmse_train Score: 1375561.050\n",
            "rmse_testScore: 2822284.914\n",
            "Train R2 Score: 0.995\n",
            "Test R2 Score: 0.995\n"
          ]
        }
      ]
    },
    {
      "cell_type": "markdown",
      "source": [
        "## 뉴스 크롤링후 긍정인 말 이있으면 1, 부정인말이있으면 0 으로 라벨링"
      ],
      "metadata": {
        "id": "35e81YqAT7Ou"
      }
    },
    {
      "cell_type": "markdown",
      "source": [
        "## 크롤링\n",
        "## https://wikidocs.net/85739\n",
        "## https://www.inflearn.com/course/%ED%8C%8C%EC%9D%B4%EC%8D%AC-%ED%81%AC%EB%A1%A4%EB%A7%81-%EA%B8%B0%EC%B4%88/dashboard"
      ],
      "metadata": {
        "id": "f5t3YpZ2X3Vk"
      }
    },
    {
      "cell_type": "code",
      "source": [
        "pip install pygooglenews"
      ],
      "metadata": {
        "colab": {
          "base_uri": "https://localhost:8080/"
        },
        "id": "iY7XN4jHT66W",
        "outputId": "d7b92971-bb8e-416d-db23-51ff4f15bc1b"
      },
      "execution_count": null,
      "outputs": [
        {
          "output_type": "stream",
          "name": "stdout",
          "text": [
            "Collecting pygooglenews\n",
            "  Downloading pygooglenews-0.1.3-py3-none-any.whl.metadata (19 kB)\n",
            "Requirement already satisfied: beautifulsoup4<5.0.0,>=4.11.1 in /usr/local/lib/python3.12/dist-packages (from pygooglenews) (4.13.4)\n",
            "Collecting dateparser<2.0.0,>=1.1.1 (from pygooglenews)\n",
            "  Downloading dateparser-1.2.2-py3-none-any.whl.metadata (29 kB)\n",
            "Collecting feedparser<7.0.0,>=6.0.8 (from pygooglenews)\n",
            "  Downloading feedparser-6.0.11-py3-none-any.whl.metadata (2.4 kB)\n",
            "Requirement already satisfied: requests<3.0.0,>=2.28.1 in /usr/local/lib/python3.12/dist-packages (from pygooglenews) (2.32.4)\n",
            "Requirement already satisfied: soupsieve>1.2 in /usr/local/lib/python3.12/dist-packages (from beautifulsoup4<5.0.0,>=4.11.1->pygooglenews) (2.7)\n",
            "Requirement already satisfied: typing-extensions>=4.0.0 in /usr/local/lib/python3.12/dist-packages (from beautifulsoup4<5.0.0,>=4.11.1->pygooglenews) (4.14.1)\n",
            "Requirement already satisfied: python-dateutil>=2.7.0 in /usr/local/lib/python3.12/dist-packages (from dateparser<2.0.0,>=1.1.1->pygooglenews) (2.9.0.post0)\n",
            "Requirement already satisfied: pytz>=2024.2 in /usr/local/lib/python3.12/dist-packages (from dateparser<2.0.0,>=1.1.1->pygooglenews) (2025.2)\n",
            "Requirement already satisfied: regex>=2024.9.11 in /usr/local/lib/python3.12/dist-packages (from dateparser<2.0.0,>=1.1.1->pygooglenews) (2024.11.6)\n",
            "Requirement already satisfied: tzlocal>=0.2 in /usr/local/lib/python3.12/dist-packages (from dateparser<2.0.0,>=1.1.1->pygooglenews) (5.3.1)\n",
            "Collecting sgmllib3k (from feedparser<7.0.0,>=6.0.8->pygooglenews)\n",
            "  Downloading sgmllib3k-1.0.0.tar.gz (5.8 kB)\n",
            "  Preparing metadata (setup.py) ... \u001b[?25l\u001b[?25hdone\n",
            "Requirement already satisfied: charset_normalizer<4,>=2 in /usr/local/lib/python3.12/dist-packages (from requests<3.0.0,>=2.28.1->pygooglenews) (3.4.3)\n",
            "Requirement already satisfied: idna<4,>=2.5 in /usr/local/lib/python3.12/dist-packages (from requests<3.0.0,>=2.28.1->pygooglenews) (3.10)\n",
            "Requirement already satisfied: urllib3<3,>=1.21.1 in /usr/local/lib/python3.12/dist-packages (from requests<3.0.0,>=2.28.1->pygooglenews) (2.5.0)\n",
            "Requirement already satisfied: certifi>=2017.4.17 in /usr/local/lib/python3.12/dist-packages (from requests<3.0.0,>=2.28.1->pygooglenews) (2025.8.3)\n",
            "Requirement already satisfied: six>=1.5 in /usr/local/lib/python3.12/dist-packages (from python-dateutil>=2.7.0->dateparser<2.0.0,>=1.1.1->pygooglenews) (1.17.0)\n",
            "Downloading pygooglenews-0.1.3-py3-none-any.whl (10 kB)\n",
            "Downloading dateparser-1.2.2-py3-none-any.whl (315 kB)\n",
            "\u001b[2K   \u001b[90m━━━━━━━━━━━━━━━━━━━━━━━━━━━━━━━━━━━━━━━━\u001b[0m \u001b[32m315.5/315.5 kB\u001b[0m \u001b[31m11.3 MB/s\u001b[0m eta \u001b[36m0:00:00\u001b[0m\n",
            "\u001b[?25hDownloading feedparser-6.0.11-py3-none-any.whl (81 kB)\n",
            "\u001b[2K   \u001b[90m━━━━━━━━━━━━━━━━━━━━━━━━━━━━━━━━━━━━━━━━\u001b[0m \u001b[32m81.3/81.3 kB\u001b[0m \u001b[31m5.4 MB/s\u001b[0m eta \u001b[36m0:00:00\u001b[0m\n",
            "\u001b[?25hBuilding wheels for collected packages: sgmllib3k\n",
            "  Building wheel for sgmllib3k (setup.py) ... \u001b[?25l\u001b[?25hdone\n",
            "  Created wheel for sgmllib3k: filename=sgmllib3k-1.0.0-py3-none-any.whl size=6046 sha256=a4a15fff038861a66472817c6b1b274d126348faecce2c9543ea58c4fe2b6109\n",
            "  Stored in directory: /root/.cache/pip/wheels/03/f5/1a/23761066dac1d0e8e683e5fdb27e12de53209d05a4a37e6246\n",
            "Successfully built sgmllib3k\n",
            "Installing collected packages: sgmllib3k, feedparser, dateparser, pygooglenews\n",
            "Successfully installed dateparser-1.2.2 feedparser-6.0.11 pygooglenews-0.1.3 sgmllib3k-1.0.0\n"
          ]
        }
      ]
    },
    {
      "cell_type": "code",
      "source": [],
      "metadata": {
        "id": "a6lVCaa6XY7s"
      },
      "execution_count": null,
      "outputs": []
    },
    {
      "cell_type": "code",
      "source": [],
      "metadata": {
        "id": "LsR2nCDlhQAu"
      },
      "execution_count": null,
      "outputs": []
    }
  ],
  "metadata": {
    "colab": {
      "provenance": []
    },
    "kernelspec": {
      "display_name": "Python 3",
      "name": "python3"
    },
    "language_info": {
      "name": "python"
    }
  },
  "nbformat": 4,
  "nbformat_minor": 0
}